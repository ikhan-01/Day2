{
 "cells": [
  {
   "cell_type": "code",
   "execution_count": 13,
   "id": "8675d5b1",
   "metadata": {},
   "outputs": [
    {
     "name": "stdout",
     "output_type": "stream",
     "text": [
      "pass : 1\n",
      "0 0 [1, 0, 0, 0, 0]\n",
      "\n",
      "pass : 2\n",
      "1 0 [1, 1, 0, 0, 0]\n",
      "1 1 [1, 3, 0, 0, 0]\n",
      "\n",
      "pass : 3\n",
      "2 0 [1, 3, 1, 0, 0]\n",
      "2 1 [1, 3, 3, 0, 0]\n",
      "2 2 [1, 3, 6, 0, 0]\n",
      "\n",
      "pass : 4\n",
      "3 0 [1, 3, 6, 1, 0]\n",
      "3 1 [1, 3, 6, 3, 0]\n",
      "3 2 [1, 3, 6, 6, 0]\n",
      "3 3 [1, 3, 6, 10, 0]\n",
      "\n",
      "pass : 5\n",
      "4 0 [1, 3, 6, 10, 1]\n",
      "4 1 [1, 3, 6, 10, 3]\n",
      "4 2 [1, 3, 6, 10, 6]\n",
      "4 3 [1, 3, 6, 10, 10]\n",
      "4 4 [1, 3, 6, 10, 15]\n",
      "\n"
     ]
    },
    {
     "data": {
      "text/plain": [
       "[1, 3, 6, 10, 15]"
      ]
     },
     "execution_count": 13,
     "metadata": {},
     "output_type": "execute_result"
    }
   ],
   "source": [
    "def prefix_sum(arr):\n",
    "    n = len(arr)\n",
    "    prefix = [0] * n\n",
    "\n",
    "    for i in range(n):\n",
    "        #print(i, end=\" \" )\n",
    "        print(\"pass :\", i+1)\n",
    "        for j in range(i + 1):\n",
    "            print (i,j ,end=\" \")\n",
    "            prefix[i] += arr[j]\n",
    "            print(prefix)\n",
    "        print()\n",
    "    \n",
    "    return prefix\n",
    "\n",
    "\n",
    "arr = [1, 2, 3, 4, 5]\n",
    "prefix_sum(arr)\n",
    "#print(\"Prefix Sum:\", prefix_sum(arr))  \n"
   ]
  },
  {
   "cell_type": "code",
   "execution_count": null,
   "id": "c22c7d0a",
   "metadata": {},
   "outputs": [
    {
     "name": "stdout",
     "output_type": "stream",
     "text": [
      "K-element subarray sums: [6, 9, 12]\n"
     ]
    }
   ],
   "source": [
    "def k_window_sum(arr, k):\n",
    "    n = len(arr)\n",
    "    if k > n:\n",
    "        return []\n",
    "\n",
    "    result = []\n",
    "    for i in range(n - k + 1):\n",
    "        current_sum = 0\n",
    "        for j in range(i, i + k):\n",
    "            current_sum += arr[j]\n",
    "        result.append(current_sum)\n",
    "\n",
    "    return result\n",
    "\n",
    "\n",
    "arr = [1, 2, 3, 4, 5]\n",
    "k = 3\n",
    "print(\"K-element subarray sums:\", k_window_sum(arr, k))  \n"
   ]
  },
  {
   "cell_type": "code",
   "execution_count": null,
   "id": "dace686f",
   "metadata": {},
   "outputs": [
    {
     "name": "stdout",
     "output_type": "stream",
     "text": [
      "subarray sums: [6, 9, 12]\n"
     ]
    }
   ],
   "source": [
    "def sliding_sum(arr, k):\n",
    "    result = []\n",
    "    window_sum = sum(arr[:k]) # sum of elements in initial window\n",
    "\n",
    "    result.append(window_sum)\n",
    "    for i in range(k, len(arr)):\n",
    "        window_sum += arr[i] - arr[i-k]\n",
    "        result.append(window_sum)\n",
    "    return result\n",
    "\n",
    "arr = [1, 2, 3, 4, 5]\n",
    "k = 3\n",
    "print(\"subarray sums:\", sliding_sum(arr, k))  "
   ]
  }
 ],
 "metadata": {
  "kernelspec": {
   "display_name": ".venv",
   "language": "python",
   "name": "python3"
  },
  "language_info": {
   "codemirror_mode": {
    "name": "ipython",
    "version": 3
   },
   "file_extension": ".py",
   "mimetype": "text/x-python",
   "name": "python",
   "nbconvert_exporter": "python",
   "pygments_lexer": "ipython3",
   "version": "3.13.5"
  }
 },
 "nbformat": 4,
 "nbformat_minor": 5
}
