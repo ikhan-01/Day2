{
 "cells": [
  {
   "cell_type": "code",
   "execution_count": 5,
   "id": "ad9f42c3",
   "metadata": {},
   "outputs": [
    {
     "data": {
      "text/plain": [
       "1"
      ]
     },
     "execution_count": 5,
     "metadata": {},
     "output_type": "execute_result"
    }
   ],
   "source": [
    "s={'a':1,'b':2}\n",
    "\n",
    "#s['a']\n",
    "s.get('a')\n"
   ]
  },
  {
   "cell_type": "code",
   "execution_count": null,
   "id": "072de8b4",
   "metadata": {},
   "outputs": [
    {
     "name": "stdout",
     "output_type": "stream",
     "text": [
      "dict_items([('a', 1), ('b', 2)])\n",
      "dict_keys(['a', 'b'])\n",
      "1\n"
     ]
    }
   ],
   "source": [
    "print(s.items())\n",
    "print(s.keys())\n"
   ]
  },
  {
   "cell_type": "code",
   "execution_count": null,
   "id": "73fb456c",
   "metadata": {},
   "outputs": [
    {
     "name": "stdout",
     "output_type": "stream",
     "text": [
      "No\n"
     ]
    }
   ],
   "source": [
    "n=9\n",
    "k=2\n",
    "n2=1<<k\n",
    "if(n&n2==0):\n",
    "    print(\"No\")\n",
    "else:\n",
    "    print(\"Yes\")"
   ]
  },
  {
   "cell_type": "code",
   "execution_count": 13,
   "id": "029a12f8",
   "metadata": {},
   "outputs": [
    {
     "name": "stdout",
     "output_type": "stream",
     "text": [
      "30\n",
      "20\n",
      "10\n"
     ]
    },
    {
     "data": {
      "text/plain": [
       "30"
      ]
     },
     "execution_count": 13,
     "metadata": {},
     "output_type": "execute_result"
    }
   ],
   "source": [
    "class stack:\n",
    "    arr=[0]*9\n",
    "    top=-1\n",
    "\n",
    "    def push(self, data):\n",
    "        if(self.top==8):\n",
    "            print(\"overflow\")\n",
    "            return\n",
    "        self.top+=1\n",
    "        self.arr[self.top]=data\n",
    "\n",
    "    def pop(self):\n",
    "        if(self.top==-1):\n",
    "            print(\"Underflow\")\n",
    "            return\n",
    "        else:\n",
    "            ele=self.arr[self.top]\n",
    "            self.top-=1\n",
    "            return ele\n",
    "    \n",
    "    def peek (self):\n",
    "        return self.arr[self.top]\n",
    "    \n",
    "s1=stack()\n",
    "s1.push(10)\n",
    "s1.push(20)\n",
    "s1.push(30)\n",
    "s1.push(10)\n",
    "s1.push(20)\n",
    "s1.push(30)\n",
    "s1.push(10)\n",
    "s1.push(20)\n",
    "s1.push(30)\n",
    "\n",
    "\n",
    "print(s1.pop())\n",
    "print(s1.pop())\n",
    "print(s1.pop())\n",
    "s1.pop()\n"
   ]
  },
  {
   "cell_type": "code",
   "execution_count": 4,
   "id": "656d5c5e",
   "metadata": {},
   "outputs": [
    {
     "data": {
      "text/plain": [
       "0"
      ]
     },
     "execution_count": 4,
     "metadata": {},
     "output_type": "execute_result"
    }
   ],
   "source": [
    "cap=4\n",
    "4%cap"
   ]
  },
  {
   "cell_type": "code",
   "execution_count": 13,
   "id": "350bde63",
   "metadata": {},
   "outputs": [
    {
     "name": "stdout",
     "output_type": "stream",
     "text": [
      "Overflow\n",
      "None 10 20 30 "
     ]
    }
   ],
   "source": [
    "class Queue:\n",
    "    def __init__(self,cap):\n",
    "        self.capacity=cap\n",
    "        self.arr=[None]*self.capacity\n",
    "        self.front=0\n",
    "        self.rear=0\n",
    "\n",
    "    def enqueue(self,data):\n",
    "        if (self.rear+1)%self.capacity==self.front:\n",
    "            print(\"Overflow\")\n",
    "            return\n",
    "        self.rear=(self.rear+1)%self.capacity\n",
    "        self.arr[self.rear]=data\n",
    "\n",
    "    def dequeue(self):\n",
    "        self.front=(self.front+1)%self.capacity\n",
    "    \n",
    "    def display(self):\n",
    "        for i in range(self.front,self.rear+1):\n",
    "            print(self.arr[i], end=\" \")\n",
    "\n",
    "q1=Queue(4)\n",
    "q1.enqueue(10)\n",
    "q1.enqueue(20)\n",
    "q1.enqueue(30)\n",
    "q1.enqueue(40)\n",
    "q1.display()"
   ]
  },
  {
   "cell_type": "code",
   "execution_count": 10,
   "id": "13099c36",
   "metadata": {},
   "outputs": [
    {
     "name": "stdout",
     "output_type": "stream",
     "text": [
      "4\n",
      "3\n",
      "2\n",
      "1\n",
      "0\n"
     ]
    }
   ],
   "source": [
    "n=5\n",
    "for i in range(n-1,-1,-1):\n",
    "    print(i)"
   ]
  },
  {
   "cell_type": "code",
   "execution_count": 12,
   "id": "c5ac3fe6",
   "metadata": {},
   "outputs": [
    {
     "name": "stdout",
     "output_type": "stream",
     "text": [
      "[16, 12, 14, 8, 5, 1, 6]\n"
     ]
    }
   ],
   "source": [
    "class MaxHeap:\n",
    "    def __init__(self):\n",
    "        self.heap=[]\n",
    "\n",
    "    def _heapify(self,i):\n",
    "        l=2*i+1\n",
    "        r=2*i+2\n",
    "        size=len(self.heap)\n",
    "\n",
    "        if l<size and self.heap[l]>self.heap[i]:\n",
    "            largest=l\n",
    "        else:\n",
    "            largest=i\n",
    "        if r<size and self.heap[r]>self.heap[largest]:\n",
    "            largest=r\n",
    "        if largest !=i:\n",
    "            self.heap[largest],self.heap[i]=self.heap[i],self.heap[largest]\n",
    "            self._heapify(largest)\n",
    "\n",
    "    def build(self,arr):\n",
    "        self.heap=arr[:]\n",
    "        for i in range((len(arr)//2)-1,-1,-1):\n",
    "            self._heapify(i)\n",
    "        \n",
    "    def display(self):\n",
    "        print(self.heap)\n",
    "\n",
    "h1=MaxHeap()\n",
    "h1.build([1,5,6,8,12,14,16])\n",
    "h1.display()"
   ]
  },
  {
   "cell_type": "code",
   "execution_count": 16,
   "id": "9d0a2088",
   "metadata": {},
   "outputs": [
    {
     "name": "stdout",
     "output_type": "stream",
     "text": [
      "[1, 2, 9, 10]\n",
      "[2, 4, 3, 10, 9]\n"
     ]
    }
   ],
   "source": [
    "import heapq\n",
    "\n",
    "heap=[10,1,9,2]\n",
    "heapq.heapify(heap)\n",
    "print(heap)\n",
    "heapq.heappush(heap,4)\n",
    "heapq.heappush(heap,3)\n",
    "heapq.heappop(heap)\n",
    "print(heap)\n",
    "\n"
   ]
  },
  {
   "cell_type": "code",
   "execution_count": 21,
   "id": "6ba88755",
   "metadata": {},
   "outputs": [
    {
     "name": "stdout",
     "output_type": "stream",
     "text": [
      "No it is not there\n"
     ]
    }
   ],
   "source": [
    "arr=[5,6,7,45,9,60,21,20,15,16,32]\n",
    "target=22\n",
    "flag=False\n",
    "for i in range(len(arr)):\n",
    "    if(target==arr[i]):\n",
    "        flag=True\n",
    "\n",
    "if flag:\n",
    "    print(\"yes \",target,\" is in the array\")\n",
    "else:\n",
    "    print(\"No it is not there\")\n",
    "    "
   ]
  },
  {
   "cell_type": "code",
   "execution_count": null,
   "id": "604be834",
   "metadata": {},
   "outputs": [
    {
     "name": "stdout",
     "output_type": "stream",
     "text": [
      "Max Heap :  [20, 19, 16, 5, 14, 1]\n"
     ]
    }
   ],
   "source": [
    "class Max_heap:\n",
    "    def __init__(self):\n",
    "        self.heap=[]  \n",
    "    def _heapify(self,i):\n",
    "        size=len(self.heap)\n",
    "        l=2*i+1\n",
    "        r=2*i+2\n",
    "\n",
    "        if l<size and self.heap[l]>self.heap[i]:\n",
    "            largest=l\n",
    "        else:\n",
    "            largest=i\n",
    "        if r<size and self.heap[r]>self.heap[largest]:\n",
    "            largest=r\n",
    "        \n",
    "        if largest != i:\n",
    "            self.heap[i],self.heap[largest]=self.heap[largest],self.heap[i]\n",
    "            self._heapify(largest)\n",
    "        \n",
    "    def buid (self,arr):\n",
    "        self.heap=arr[:]\n",
    "        for i in range((len(arr)//2)-1,-1,-1):\n",
    "            self._heapify(i)\n",
    "\n",
    "    def display(self):\n",
    "        print(\"Max Heap : \",self.heap)\n",
    "h1=Max_heap()\n",
    "h1.buid([1,5,16,19,14,20])\n",
    "h1.display()\n"
   ]
  },
  {
   "cell_type": "code",
   "execution_count": 11,
   "id": "7b8637b5",
   "metadata": {},
   "outputs": [
    {
     "name": "stdout",
     "output_type": "stream",
     "text": [
      "not found\n"
     ]
    }
   ],
   "source": [
    "def binarySearh(arr,target):\n",
    "    l=0\n",
    "    r=len(arr)-1\n",
    "\n",
    "    while l<=r:\n",
    "        m=(l+r)//2\n",
    "        if target==arr[m]:\n",
    "            return 1\n",
    "        if target>arr[m]:\n",
    "            l=m+1\n",
    "        else:\n",
    "            r=m-1\n",
    "        \n",
    "    return \n",
    "a=[1,3,5,9,10,15,20]\n",
    "if binarySearh(a,25):\n",
    "    print(\"found\")\n",
    "else:\n",
    "    print(\"not found\")"
   ]
  }
 ],
 "metadata": {
  "kernelspec": {
   "display_name": ".venv",
   "language": "python",
   "name": "python3"
  },
  "language_info": {
   "codemirror_mode": {
    "name": "ipython",
    "version": 3
   },
   "file_extension": ".py",
   "mimetype": "text/x-python",
   "name": "python",
   "nbconvert_exporter": "python",
   "pygments_lexer": "ipython3",
   "version": "3.13.5"
  }
 },
 "nbformat": 4,
 "nbformat_minor": 5
}
