{
 "cells": [
  {
   "cell_type": "code",
   "execution_count": 20,
   "id": "aeba4935",
   "metadata": {},
   "outputs": [
    {
     "name": "stdout",
     "output_type": "stream",
     "text": [
      "i :  2\n",
      "-------------------------\n",
      "j : 0\n",
      "j : 1\n",
      "j : 2\n",
      "------------------------\n",
      "i :  3\n",
      "-------------------------\n",
      "j : 1\n",
      "j : 2\n",
      "j : 3\n",
      "------------------------\n",
      "i :  4\n",
      "-------------------------\n",
      "j : 2\n",
      "j : 3\n",
      "j : 4\n",
      "------------------------\n",
      "i :  5\n",
      "-------------------------\n",
      "j : 3\n",
      "j : 4\n",
      "j : 5\n",
      "------------------------\n",
      "i :  6\n",
      "-------------------------\n",
      "j : 4\n",
      "j : 5\n",
      "j : 6\n",
      "------------------------\n",
      "i :  7\n",
      "-------------------------\n",
      "j : 5\n",
      "j : 6\n",
      "j : 7\n",
      "------------------------\n",
      "i :  8\n",
      "-------------------------\n",
      "j : 6\n",
      "j : 7\n",
      "j : 8\n",
      "------------------------\n",
      "[3, 3, 5, 5, 7, 7, 7]\n"
     ]
    }
   ],
   "source": [
    "a=[1,3,-3,-1,5,3,7,1,6]\n",
    "r=[]\n",
    "for i in range(2,9):\n",
    "    wMax=a[i]\n",
    "    print(\"i : \", i)\n",
    "    print(\"-------------------------\")\n",
    "    for j in range(i-2,i+1):\n",
    "        wMax=max(wMax,a[j])\n",
    "        print(\"j :\",j)\n",
    "    r.append(wMax)\n",
    "    print(\"------------------------\")\n",
    "\n",
    "print(r)"
   ]
  },
  {
   "cell_type": "code",
   "execution_count": 19,
   "id": "c4c5bd4b",
   "metadata": {},
   "outputs": [
    {
     "name": "stdout",
     "output_type": "stream",
     "text": [
      "i :  2\n",
      "-------------------------\n",
      "j : 0\n",
      "j : 1\n",
      "j : 2\n",
      "------------------------\n",
      "i :  3\n",
      "-------------------------\n",
      "j : 1\n",
      "j : 2\n",
      "j : 3\n",
      "------------------------\n",
      "i :  4\n",
      "-------------------------\n",
      "j : 2\n",
      "j : 3\n",
      "j : 4\n",
      "------------------------\n",
      "i :  5\n",
      "-------------------------\n",
      "j : 3\n",
      "j : 4\n",
      "j : 5\n",
      "------------------------\n",
      "i :  6\n",
      "-------------------------\n",
      "j : 4\n",
      "j : 5\n",
      "j : 6\n",
      "------------------------\n",
      "i :  7\n",
      "-------------------------\n",
      "j : 5\n",
      "j : 6\n",
      "j : 7\n",
      "------------------------\n",
      "i :  8\n",
      "-------------------------\n",
      "j : 6\n",
      "j : 7\n",
      "j : 8\n",
      "------------------------\n",
      "[3, 3, 5, 5, 7, 7, 7]\n"
     ]
    }
   ],
   "source": [
    "a=[1,3,-3,-1,5,3,7,1,6]\n",
    "n=9\n",
    "k=3\n",
    "r=[]\n",
    "for i in range(k-1,n): # (2,8)\n",
    "    wMax=a[i]\n",
    "    print(\"i : \", i)\n",
    "    print(\"-------------------------\")\n",
    "    for j in range(i-k+1,i+1): #(i-k, k)\n",
    "        wMax=max(wMax,a[j])\n",
    "        print(\"j :\",j)\n",
    "    r.append(wMax)\n",
    "    print(\"------------------------\")\n",
    "\n",
    "print(r)"
   ]
  },
  {
   "cell_type": "code",
   "execution_count": 17,
   "id": "40638244",
   "metadata": {},
   "outputs": [
    {
     "data": {
      "text/plain": [
       "[3, 3, 5, 5, 7, 7, 7]"
      ]
     },
     "execution_count": 17,
     "metadata": {},
     "output_type": "execute_result"
    }
   ],
   "source": [
    "a=[1,3,-3,-1,5,3,7,1,6]\n",
    "n=9\n",
    "k=3\n",
    "r=[]\n",
    "for i in range(n-k+1):\n",
    "    r.append(max(a[i:i+k]))\n",
    "r"
   ]
  },
  {
   "cell_type": "code",
   "execution_count": 30,
   "id": "991c402f",
   "metadata": {},
   "outputs": [
    {
     "name": "stdout",
     "output_type": "stream",
     "text": [
      "[3, 3, 5, 5, 7, 7, 7]\n"
     ]
    }
   ],
   "source": [
    "a = [1, 3, -3, -1, 5, 3, 7, 1, 6]\n",
    "n = len(a)\n",
    "k = 3\n",
    "r = []\n",
    "\n",
    "for i in range(n - k + 1):\n",
    "    q = a[i:i + k]\n",
    "    #print(f\"W {i + 1}: {q} -> Max: {max(q)}\")\n",
    "    r.append(max(q))\n",
    "\n",
    "print( r)\n"
   ]
  },
  {
   "cell_type": "code",
   "execution_count": null,
   "id": "2e7fc3ab",
   "metadata": {},
   "outputs": [
    {
     "name": "stdout",
     "output_type": "stream",
     "text": [
      "Window indices: [0, 1, 2]\n",
      "Window indices: [1, 2, 3]\n",
      "Window indices: [2, 3, 4]\n",
      "Window indices: [3, 4, 5]\n",
      "Window indices: [4, 5, 6]\n",
      "Window indices: [5, 6, 7]\n",
      "Window indices: [6, 7, 8]\n"
     ]
    }
   ],
   "source": [
    "a = [1, 3, -3, -1, 5, 3, 7, 1, 6]\n",
    "n = len(a)\n",
    "k = 3\n",
    "q = [] \n",
    "\n",
    "for i in range(n):\n",
    "    if len(q) == k:\n",
    "        q.pop(0)\n",
    "    q.append(i)\n",
    "    if i >= k - 1:\n",
    "        print(\"Window indices:\", q)\n"
   ]
  },
  {
   "cell_type": "code",
   "execution_count": 2,
   "id": "eb496a81",
   "metadata": {},
   "outputs": [
    {
     "name": "stdout",
     "output_type": "stream",
     "text": [
      "Window indices: [0, 1, 2]\n",
      "Window indices: [1, 2, 3]\n",
      "Window indices: [2, 3, 4]\n",
      "Window indices: [3, 4, 5]\n",
      "Window indices: [4, 5, 6]\n",
      "Window indices: [5, 6, 7]\n",
      "Window indices: [6, 7, 8]\n"
     ]
    },
    {
     "data": {
      "text/plain": [
       "[3, 3, 5, 5, 7, 7]"
      ]
     },
     "execution_count": 2,
     "metadata": {},
     "output_type": "execute_result"
    }
   ],
   "source": [
    "a = [1, 3, -3, -1, 5, 3, 7, 1, 6]\n",
    "n = len(a)\n",
    "k = 3\n",
    "q = [] \n",
    "r=[]\n",
    "\n",
    "for i in range(n):\n",
    "    if len(q) == k:\n",
    "        r.append(max(a[j] for j in q))\n",
    "        q.pop(0)\n",
    "    q.append(i)\n",
    "    if i >= k - 1:\n",
    "        print(\"Window indices:\", q)\n",
    "\n",
    "r"
   ]
  },
  {
   "cell_type": "code",
   "execution_count": 6,
   "id": "2e741018",
   "metadata": {},
   "outputs": [
    {
     "name": "stdout",
     "output_type": "stream",
     "text": [
      "Window 0 [0, 1, 2]\n",
      "Window 1 [1, 2, 3]\n",
      "Window 2 [2, 3, 4]\n",
      "Window 3 [3, 4, 5]\n",
      "Window 4 [4, 5, 6]\n",
      "Window 5 [5, 6, 7]\n",
      "Window 6 [6, 7, 8]\n"
     ]
    }
   ],
   "source": [
    "a = [1, 3, -3, -1, 5, 3, 7, 1, 6]\n",
    "n = len(a)\n",
    "k = 3\n",
    "q = [] \n",
    "\n",
    "for i in range(n):\n",
    "    if q and q[0] <= i - k:\n",
    "        q.pop(0)   \n",
    "    q.append(i)\n",
    "    if i >= k - 1:\n",
    "        print(f\"Window {i-2}\", q)"
   ]
  },
  {
   "cell_type": "code",
   "execution_count": null,
   "id": "35c3db27",
   "metadata": {},
   "outputs": [],
   "source": [
    "a = [1, 3, -3, -1, 5, 3, 7, 1, 6]\n",
    "n = len(a)\n",
    "k = 3\n",
    "q = [] \n",
    "r = []  \n",
    "\n",
    "for i in range(n):\n",
    "    \n",
    "    if q and q[0] <= i - k:\n",
    "        q.pop(0)\n",
    "\n",
    "    while q and a[q[-1]] < a[i]:\n",
    "        q.pop()\n",
    "\n",
    "    q.append(i)\n",
    "\n",
    "    if i >= k - 1:\n",
    "        r.append(a[q[0]])\n",
    "        print(\"Window indices:\", q)\n",
    "\n",
    "print(\"All window maximums:\", r)\n"
   ]
  },
  {
   "cell_type": "code",
   "execution_count": null,
   "id": "e4f7f006",
   "metadata": {},
   "outputs": [],
   "source": []
  }
 ],
 "metadata": {
  "kernelspec": {
   "display_name": ".venv",
   "language": "python",
   "name": "python3"
  },
  "language_info": {
   "codemirror_mode": {
    "name": "ipython",
    "version": 3
   },
   "file_extension": ".py",
   "mimetype": "text/x-python",
   "name": "python",
   "nbconvert_exporter": "python",
   "pygments_lexer": "ipython3",
   "version": "3.13.5"
  }
 },
 "nbformat": 4,
 "nbformat_minor": 5
}
