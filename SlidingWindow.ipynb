{
 "cells": [
  {
   "cell_type": "code",
   "execution_count": 14,
   "id": "aeba4935",
   "metadata": {},
   "outputs": [
    {
     "name": "stdout",
     "output_type": "stream",
     "text": [
      "i :  2\n",
      "-------------------------\n",
      "j : 0\n",
      "j : 1\n",
      "j : 2\n",
      "------------------------\n",
      "i :  3\n",
      "-------------------------\n",
      "j : 1\n",
      "j : 2\n",
      "j : 3\n",
      "------------------------\n",
      "i :  4\n",
      "-------------------------\n",
      "j : 2\n",
      "j : 3\n",
      "j : 4\n",
      "------------------------\n",
      "i :  5\n",
      "-------------------------\n",
      "j : 3\n",
      "j : 4\n",
      "j : 5\n",
      "------------------------\n",
      "i :  6\n",
      "-------------------------\n",
      "j : 4\n",
      "j : 5\n",
      "j : 6\n",
      "------------------------\n",
      "i :  7\n",
      "-------------------------\n",
      "j : 5\n",
      "j : 6\n",
      "j : 7\n",
      "------------------------\n",
      "[3, 3, 5, 5, 7, 7]\n"
     ]
    }
   ],
   "source": [
    "a=[1,3,-3,-1,5,3,7,1,6]\n",
    "r=[]\n",
    "for i in range(2,8):\n",
    "    wMax=a[i]\n",
    "    print(\"i : \", i)\n",
    "    print(\"-------------------------\")\n",
    "    for j in range(i-2,i+1):\n",
    "        wMax=max(wMax,a[j])\n",
    "        print(\"j :\",j)\n",
    "    r.append(wMax)\n",
    "    print(\"------------------------\")\n",
    "\n",
    "print(r)"
   ]
  },
  {
   "cell_type": "code",
   "execution_count": 19,
   "id": "c4c5bd4b",
   "metadata": {},
   "outputs": [
    {
     "name": "stdout",
     "output_type": "stream",
     "text": [
      "i :  2\n",
      "-------------------------\n",
      "j : 0\n",
      "j : 1\n",
      "j : 2\n",
      "------------------------\n",
      "i :  3\n",
      "-------------------------\n",
      "j : 1\n",
      "j : 2\n",
      "j : 3\n",
      "------------------------\n",
      "i :  4\n",
      "-------------------------\n",
      "j : 2\n",
      "j : 3\n",
      "j : 4\n",
      "------------------------\n",
      "i :  5\n",
      "-------------------------\n",
      "j : 3\n",
      "j : 4\n",
      "j : 5\n",
      "------------------------\n",
      "i :  6\n",
      "-------------------------\n",
      "j : 4\n",
      "j : 5\n",
      "j : 6\n",
      "------------------------\n",
      "i :  7\n",
      "-------------------------\n",
      "j : 5\n",
      "j : 6\n",
      "j : 7\n",
      "------------------------\n",
      "i :  8\n",
      "-------------------------\n",
      "j : 6\n",
      "j : 7\n",
      "j : 8\n",
      "------------------------\n",
      "[3, 3, 5, 5, 7, 7, 7]\n"
     ]
    }
   ],
   "source": [
    "a=[1,3,-3,-1,5,3,7,1,6]\n",
    "n=9\n",
    "k=3\n",
    "r=[]\n",
    "for i in range(k-1,n): # (2,8)\n",
    "    wMax=a[i]\n",
    "    print(\"i : \", i)\n",
    "    print(\"-------------------------\")\n",
    "    for j in range(i-k+1,i+1): #(i-k, k)\n",
    "        wMax=max(wMax,a[j])\n",
    "        print(\"j :\",j)\n",
    "    r.append(wMax)\n",
    "    print(\"------------------------\")\n",
    "\n",
    "print(r)"
   ]
  },
  {
   "cell_type": "code",
   "execution_count": 17,
   "id": "40638244",
   "metadata": {},
   "outputs": [
    {
     "data": {
      "text/plain": [
       "[3, 3, 5, 5, 7, 7, 7]"
      ]
     },
     "execution_count": 17,
     "metadata": {},
     "output_type": "execute_result"
    }
   ],
   "source": [
    "a=[1,3,-3,-1,5,3,7,1,6]\n",
    "n=9\n",
    "k=3\n",
    "r=[]\n",
    "for i in range(n-k+1):\n",
    "    r.append(max(a[i:i+k]))\n",
    "r"
   ]
  }
 ],
 "metadata": {
  "kernelspec": {
   "display_name": ".venv",
   "language": "python",
   "name": "python3"
  },
  "language_info": {
   "codemirror_mode": {
    "name": "ipython",
    "version": 3
   },
   "file_extension": ".py",
   "mimetype": "text/x-python",
   "name": "python",
   "nbconvert_exporter": "python",
   "pygments_lexer": "ipython3",
   "version": "3.13.5"
  }
 },
 "nbformat": 4,
 "nbformat_minor": 5
}
