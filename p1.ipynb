{
 "cells": [
  {
   "cell_type": "code",
   "execution_count": 9,
   "id": "d207d981",
   "metadata": {},
   "outputs": [
    {
     "name": "stdout",
     "output_type": "stream",
     "text": [
      "not anagram\n"
     ]
    }
   ],
   "source": [
    "s1=\"abc\"\n",
    "s2=\"bdc\"\n",
    "flag=True\n",
    "count=[0]*26\n",
    "for a,b  in zip (s1,s2):\n",
    "    count[ord(a)-97] +=1\n",
    "    count[ord(b)-97] -=1\n",
    "\n",
    "for i in count:\n",
    "    if i!=0:\n",
    "        flag=False\n",
    "        print(\"not anagram\")\n",
    "        break\n",
    "if(flag):\n",
    "    print(\"anagram\")\n",
    "    \n"
   ]
  },
  {
   "cell_type": "code",
   "execution_count": 47,
   "id": "e6549e0c",
   "metadata": {},
   "outputs": [
    {
     "name": "stdout",
     "output_type": "stream",
     "text": [
      "{'a': 0, 'b': 0, 'c': 0}\n"
     ]
    }
   ],
   "source": [
    "s1=\"abc\"\n",
    "s2=\"bac\"\n",
    "f={}\n",
    "for c in s1:\n",
    "    if c not in f:\n",
    "        f[c]=1\n",
    "    else:\n",
    "        f[c]+=1\n",
    "for c in s2:\n",
    "    if c not in f:\n",
    "        print(\"Not Ana\")\n",
    "    else:\n",
    "        f[c]-=1\n",
    "print(f)"
   ]
  },
  {
   "cell_type": "code",
   "execution_count": 30,
   "id": "695cdc29",
   "metadata": {},
   "outputs": [
    {
     "data": {
      "text/plain": [
       "'ab'"
      ]
     },
     "execution_count": 30,
     "metadata": {},
     "output_type": "execute_result"
    }
   ],
   "source": [
    "s=[\"abc\",\"adef\"]\n",
    "s1=s[0]\n",
    "s1[:-1]"
   ]
  },
  {
   "cell_type": "code",
   "execution_count": null,
   "id": "c5a873f0",
   "metadata": {},
   "outputs": [
    {
     "name": "stdout",
     "output_type": "stream",
     "text": [
      "10->20->30->"
     ]
    }
   ],
   "source": [
    "class node:\n",
    "    def __init__(this,d):\n",
    "        this.data=d\n",
    "        this.next=None\n",
    "\n",
    "n1=node(10)\n",
    "n1.next=node(20)\n",
    "n1.next.next=node(30)\n",
    "n=n1\n",
    "while n!=None:\n",
    "    print(n.data,end=\"->\")\n",
    "    n=n.next"
   ]
  },
  {
   "cell_type": "code",
   "execution_count": null,
   "id": "88c504b9",
   "metadata": {},
   "outputs": [],
   "source": [
    "def total_subarray_sum(arr):\n",
    "    n = len(arr)\n",
    "    total = 0\n",
    "\n",
    "    for i in range(n):\n",
    "        total += arr[i] * (i + 1) * (n - i)\n",
    "\n",
    "    return total\n",
    "\n",
    "\n",
    "print(total_subarray_sum([1, 2, 3]))  \n"
   ]
  },
  {
   "cell_type": "code",
   "execution_count": 15,
   "id": "1298c3bb",
   "metadata": {},
   "outputs": [],
   "source": [
    "s=[\"apple\",\"app\",\"apricot\"]\n",
    "def longest_common_prefix(strs):\n",
    "    if not strs:\n",
    "        return \"\"  \n",
    "\n",
    "    prefix = strs[0] \n",
    "\n",
    "    for word in strs[1:]: \n",
    "        while not word.startswith(prefix):  \n",
    "            prefix = prefix[:-1]  \n",
    "            if not prefix:  \n",
    "                return \"\"\n",
    "\n",
    "    return prefix  \n"
   ]
  },
  {
   "cell_type": "code",
   "execution_count": 16,
   "id": "73de4b94",
   "metadata": {},
   "outputs": [
    {
     "data": {
      "text/plain": [
       "'ap'"
      ]
     },
     "execution_count": 16,
     "metadata": {},
     "output_type": "execute_result"
    }
   ],
   "source": [
    "longest_common_prefix(s)"
   ]
  },
  {
   "cell_type": "code",
   "execution_count": 41,
   "id": "b07e6ac4",
   "metadata": {},
   "outputs": [
    {
     "name": "stdout",
     "output_type": "stream",
     "text": [
      "ancv\n"
     ]
    }
   ],
   "source": [
    "s = \"ancvx\"\n",
    "s = s[:-1]\n",
    "print(s)  # Output: 'ancv'\n"
   ]
  },
  {
   "cell_type": "code",
   "execution_count": 42,
   "id": "ddf2f029",
   "metadata": {},
   "outputs": [
    {
     "name": "stdout",
     "output_type": "stream",
     "text": [
      "{'a': 4, 'h': 2, 'j': 3, 's': 1}\n"
     ]
    }
   ],
   "source": [
    "s=\"ahjahjasja\"\n",
    "f={}\n",
    "for ch in s:\n",
    "    if ch not in f:\n",
    "        f[ch]=1\n",
    "    else:\n",
    "        f[ch]+=1\n",
    "print(f)"
   ]
  },
  {
   "cell_type": "code",
   "execution_count": 44,
   "id": "d4fe40f9",
   "metadata": {},
   "outputs": [
    {
     "name": "stdout",
     "output_type": "stream",
     "text": [
      "a 2\n",
      "b 3\n",
      "c 1\n"
     ]
    }
   ],
   "source": [
    "s=\"aabbbc\"\n",
    "freq=[0]*26\n",
    "for ch in s:\n",
    "    freq[ord(ch)-ord('a')]+=1\n",
    "for i in range(len(s)):\n",
    "    if(freq[i]!=0):\n",
    "        print(chr(i+97),freq[i])"
   ]
  },
  {
   "cell_type": "code",
   "execution_count": null,
   "id": "65bf310e",
   "metadata": {},
   "outputs": [
    {
     "name": "stdout",
     "output_type": "stream",
     "text": [
      "1 \n",
      "1 2 \n",
      "1 2 3 \n",
      "2 \n",
      "2 3 \n",
      "3 \n"
     ]
    }
   ],
   "source": [
    "#a=[-1,2,1,6,-3]\n",
    "a=[1,2,3]\n",
    "for i in range(len(a)):\n",
    "    for j in range(i,len(a)):\n",
    "        for k in range (i,j+1):\n",
    "                print(a[k],end=\" \")\n"
   ]
  },
  {
   "cell_type": "code",
   "execution_count": null,
   "id": "6e744502",
   "metadata": {},
   "outputs": [
    {
     "name": "stdout",
     "output_type": "stream",
     "text": [
      "9\n"
     ]
    }
   ],
   "source": [
    "\n",
    "tsum=0\n",
    "for i in range(len(a)):\n",
    "    curSum=0\n",
    "    for j in range(i,len(a)):\n",
    "        curSum+=a[j]\n",
    "        if tsum<curSum:\n",
    "            tsum=curSum\n",
    "        \n",
    "print(tsum)"
   ]
  },
  {
   "cell_type": "code",
   "execution_count": 8,
   "id": "eb5968f2",
   "metadata": {},
   "outputs": [
    {
     "name": "stdout",
     "output_type": "stream",
     "text": [
      "Max subarray sum: 6\n"
     ]
    }
   ],
   "source": [
    "a = [1, 2, 3]\n",
    "curSum = maxSum = a[0]\n",
    "\n",
    "for i in range(1, len(a)):\n",
    "    curSum = max(a[i], curSum + a[i])\n",
    "    #print(curSum)\n",
    "    maxSum = max(maxSum, curSum)\n",
    "\n",
    "print(\"Max subarray sum:\", maxSum)\n"
   ]
  },
  {
   "cell_type": "code",
   "execution_count": null,
   "id": "06a1b569",
   "metadata": {},
   "outputs": [],
   "source": [
    "class node:\n",
    "    def __init__(self,d):\n",
    "        self.data=d\n",
    "        self.next=None\n",
    "class linkedlist:\n",
    "    def __init__(self):\n",
    "        self.head=None\n",
    "\n",
    "    def traverse(self):\n",
    "        temp=self.head\n",
    "        while temp:\n",
    "            print(temp.data, end=\" -> \")\n",
    "            temp=temp.next\n",
    "        print(None)\n",
    "\n",
    "    def append(self,d):\n",
    "        n=node(d)\n",
    "        if self.head is None:\n",
    "            self.head=n\n",
    "            return\n",
    "        last=self.head\n",
    "        while last.next:\n",
    "            last=last.next\n",
    "        last.next=n\n",
    "    \n",
    "\n"
   ]
  },
  {
   "cell_type": "code",
   "execution_count": 4,
   "id": "d682a6b4",
   "metadata": {},
   "outputs": [],
   "source": [
    "class node:\n",
    "    def __init__(self,d):\n",
    "        self.data=d\n",
    "        self.next=None\n",
    "class linkedlist:\n",
    "    def __init__(self):\n",
    "        self.head=None\n",
    "    def append(self,d):\n",
    "        n=node(d)\n",
    "        if not self.head:\n",
    "            self.head=n\n",
    "            return\n",
    "        last=self.head\n",
    "        while last.next:\n",
    "            last=last.next\n",
    "        last.next=n\n",
    "        \n",
    "    def traverse(self):\n",
    "        temp=self.head\n",
    "        while temp:\n",
    "            print(temp.data, end=\"->\")\n",
    "            temp=temp.next\n",
    "\n",
    "    def reverse(self):\n",
    "        prev = None\n",
    "        current = self.head\n",
    "        while current:\n",
    "            next_node = current.next\n",
    "            current.next = prev\n",
    "            prev = current\n",
    "            current = next_node\n",
    "        self.head = prev\n",
    "\n",
    "    def find_middle(self):\n",
    "        slow = self.head\n",
    "        fast = self.head\n",
    "        while fast and fast.next:\n",
    "            slow = slow.next         \n",
    "            fast = fast.next.next   \n",
    "        print( slow.data)\n",
    "\n",
    "    def has_loop(self):\n",
    "        slow = self.head\n",
    "        fast = self.head\n",
    "        while fast and fast.next:\n",
    "            slow = slow.next\n",
    "            fast = fast.next.next\n",
    "            if slow == fast:\n",
    "                return True\n",
    "        return False\n"
   ]
  },
  {
   "cell_type": "code",
   "execution_count": 6,
   "id": "6b2c8420",
   "metadata": {},
   "outputs": [
    {
     "name": "stdout",
     "output_type": "stream",
     "text": [
      "30\n",
      "None\n",
      "10->20->30->40->30\n",
      "40->30->20->10->True\n"
     ]
    }
   ],
   "source": [
    "l1=linkedlist()\n",
    "l1.append(10)\n",
    "l1.append(20)\n",
    "l1.append(30)\n",
    "l1.append(40)\n",
    "print(l1.find_middle())\n",
    "l1.traverse()\n",
    "loop_node = l1.head.next\n",
    "l1.find_middle()\n",
    "l1.reverse()\n",
    "l1.traverse()\n",
    "temp = l1.head\n",
    "while temp.next:\n",
    "    temp = temp.next\n",
    "temp.next = loop_node\n",
    "print(l1.has_loop())\n"
   ]
  },
  {
   "cell_type": "code",
   "execution_count": 20,
   "id": "fbe86126",
   "metadata": {},
   "outputs": [
    {
     "name": "stdout",
     "output_type": "stream",
     "text": [
      "10->20->30->40->50->60->"
     ]
    }
   ],
   "source": [
    "class node:\n",
    "    def __init__(self,d):\n",
    "        self.data=d\n",
    "        self.next=None\n",
    "\n",
    "n1=node(10)\n",
    "n2=node(20)\n",
    "n3=node(30)\n",
    "n4=node(40)\n",
    "n5=node(50)\n",
    "n6=node(60) \n",
    "n1.next=n2\n",
    "n2.next=n3\n",
    "n3.next=n4\n",
    "n4.next=n5\n",
    "n5.next=n6\n",
    "\n",
    "def traverse(n):\n",
    "    while n:\n",
    "        print(n.data, end=\"->\")\n",
    "        n=n.next\n",
    "\n",
    "traverse(n1)\n"
   ]
  },
  {
   "cell_type": "code",
   "execution_count": 25,
   "id": "7083e086",
   "metadata": {},
   "outputs": [
    {
     "name": "stdout",
     "output_type": "stream",
     "text": [
      "120\n"
     ]
    }
   ],
   "source": [
    "def fact(n):\n",
    "    if n==1:\n",
    "        return 1\n",
    "    return n*fact(n-1)\n",
    "\n",
    "print(fact(5))\n",
    "    "
   ]
  },
  {
   "cell_type": "code",
   "execution_count": null,
   "id": "10ec8c17",
   "metadata": {},
   "outputs": [
    {
     "name": "stdout",
     "output_type": "stream",
     "text": [
      "5\n",
      "4\n",
      "3\n",
      "2\n",
      "2\n",
      "3\n",
      "2\n"
     ]
    },
    {
     "data": {
      "text/plain": [
       "5"
      ]
     },
     "execution_count": 38,
     "metadata": {},
     "output_type": "execute_result"
    }
   ],
   "source": [
    "def fib(n):\n",
    "    \n",
    "    if n <= 1:\n",
    "        return n\n",
    "    return fib(n - 1) + fib(n - 2)\n",
    "    \n",
    "fib(5)"
   ]
  },
  {
   "cell_type": "code",
   "execution_count": null,
   "id": "be088153",
   "metadata": {},
   "outputs": [
    {
     "name": "stdout",
     "output_type": "stream",
     "text": [
      "0 1 1 2 3 5 8 13 21 34 "
     ]
    }
   ],
   "source": [
    "def fib(n):\n",
    "    if n <= 1:\n",
    "        return n\n",
    "    return fib(n - 1) + fib(n - 2)\n",
    "\n",
    "def fib_series(n):\n",
    "    for i in range(n):\n",
    "        print(fib(i), end=\" \")\n",
    "\n",
    "fib_series(10)\n",
    "\n"
   ]
  },
  {
   "cell_type": "code",
   "execution_count": 8,
   "id": "bab99ced",
   "metadata": {},
   "outputs": [
    {
     "name": "stdout",
     "output_type": "stream",
     "text": [
      "1\n",
      "2\n",
      "3\n",
      "4\n",
      "5\n",
      "6\n",
      "7\n",
      "8\n",
      "9\n"
     ]
    }
   ],
   "source": [
    "for i in range(1,10):\n",
    "    print(i)"
   ]
  },
  {
   "cell_type": "code",
   "execution_count": 17,
   "id": "2ea58093",
   "metadata": {},
   "outputs": [],
   "source": [
    "def print_10(n):\n",
    "    if(n==0):\n",
    "        return\n",
    "    print(n)\n",
    "    print_10(n-1)\n",
    "\n"
   ]
  },
  {
   "cell_type": "code",
   "execution_count": 18,
   "id": "535baa96",
   "metadata": {},
   "outputs": [
    {
     "name": "stdout",
     "output_type": "stream",
     "text": [
      "10\n",
      "9\n",
      "8\n",
      "7\n",
      "6\n",
      "5\n",
      "4\n",
      "3\n",
      "2\n",
      "1\n"
     ]
    }
   ],
   "source": [
    "print_10(10)"
   ]
  },
  {
   "cell_type": "code",
   "execution_count": 19,
   "id": "5ba6aafd",
   "metadata": {},
   "outputs": [
    {
     "name": "stdout",
     "output_type": "stream",
     "text": [
      "120\n"
     ]
    }
   ],
   "source": [
    "def fact(n):\n",
    "    if (n==1):\n",
    "        return 1\n",
    "    return n*fact(n-1)\n",
    "print(fact(5))\n",
    "    "
   ]
  },
  {
   "cell_type": "code",
   "execution_count": 26,
   "id": "55d00da6",
   "metadata": {},
   "outputs": [
    {
     "name": "stdout",
     "output_type": "stream",
     "text": [
      "64 25\n",
      "[25, 64, 12, 22, 11]\n",
      "64 12\n",
      "[25, 12, 64, 22, 11]\n",
      "64 22\n",
      "[25, 12, 22, 64, 11]\n",
      "64 11\n",
      "[25, 12, 22, 11, 64]\n",
      "\n",
      "25 12\n",
      "[12, 25, 22, 11, 64]\n",
      "25 22\n",
      "[12, 22, 25, 11, 64]\n",
      "25 11\n",
      "[12, 22, 11, 25, 64]\n",
      "25 64\n",
      "[12, 22, 11, 25, 64]\n",
      "\n",
      "12 22\n",
      "[12, 22, 11, 25, 64]\n",
      "22 11\n",
      "[12, 11, 22, 25, 64]\n",
      "22 25\n",
      "[12, 11, 22, 25, 64]\n",
      "25 64\n",
      "[12, 11, 22, 25, 64]\n",
      "\n",
      "12 11\n",
      "[11, 12, 22, 25, 64]\n",
      "12 22\n",
      "[11, 12, 22, 25, 64]\n",
      "22 25\n",
      "[11, 12, 22, 25, 64]\n",
      "25 64\n",
      "[11, 12, 22, 25, 64]\n",
      "\n",
      "11 12\n",
      "[11, 12, 22, 25, 64]\n",
      "12 22\n",
      "[11, 12, 22, 25, 64]\n",
      "22 25\n",
      "[11, 12, 22, 25, 64]\n",
      "25 64\n",
      "[11, 12, 22, 25, 64]\n",
      "\n",
      "Sorted array: [11, 12, 22, 25, 64]\n"
     ]
    }
   ],
   "source": [
    "def bubble_sort(arr):\n",
    "    n = len(arr)\n",
    "    for i in range(n): \n",
    "        for j in range(0, n-1): \n",
    "            print(arr[j],arr[j+1]) \n",
    "            if arr[j] > arr[j + 1]:\n",
    "                arr[j], arr[j + 1] = arr[j + 1], arr[j]\n",
    "            print(arr)\n",
    "        print()\n",
    "    return arr\n",
    "\n",
    "arr = [64, 25, 12, 22, 11]\n",
    "sorted_arr = bubble_sort(arr)\n",
    "print(\"Sorted array:\", sorted_arr)\n"
   ]
  },
  {
   "cell_type": "code",
   "execution_count": 1,
   "id": "40e0c232",
   "metadata": {},
   "outputs": [
    {
     "name": "stdout",
     "output_type": "stream",
     "text": [
      "[64, 25, 12, 100, 22, 11, 5]\n",
      "Pass 1: [5, 25, 12, 100, 22, 11, 64]\n",
      "Pass 2: [5, 11, 12, 100, 22, 25, 64]\n",
      "Pass 3: [5, 11, 12, 100, 22, 25, 64]\n",
      "Pass 4: [5, 11, 12, 22, 100, 25, 64]\n",
      "Pass 5: [5, 11, 12, 22, 25, 100, 64]\n",
      "Pass 6: [5, 11, 12, 22, 25, 64, 100]\n",
      "Pass 7: [5, 11, 12, 22, 25, 64, 100]\n",
      "Sorted array: [5, 11, 12, 22, 25, 64, 100]\n"
     ]
    }
   ],
   "source": [
    "def selection_sort(arr):\n",
    "    count=0\n",
    "    n = len(arr)\n",
    "    print(arr)\n",
    "    for i in range(n):\n",
    "        min_idx = i  \n",
    "        for j in range(i+1, n):  \n",
    "            if arr[j] < arr[min_idx]:\n",
    "                min_idx = j \n",
    "                count+=1 \n",
    "        arr[i], arr[min_idx] = arr[min_idx], arr[i]\n",
    "        print(f\"Pass {i+1}: {arr}\") \n",
    "        #print(count) \n",
    "    return arr\n",
    "\n",
    "# Example usage\n",
    "arr = [64, 25, 12,100, 22, 11,5]\n",
    "sorted_arr = selection_sort(arr)\n",
    "print(\"Sorted array:\", sorted_arr)\n"
   ]
  },
  {
   "cell_type": "code",
   "execution_count": 2,
   "id": "a3958d5a",
   "metadata": {},
   "outputs": [
    {
     "data": {
      "text/plain": [
       "0"
      ]
     },
     "execution_count": 2,
     "metadata": {},
     "output_type": "execute_result"
    }
   ],
   "source": [
    "1//10"
   ]
  },
  {
   "cell_type": "code",
   "execution_count": 3,
   "id": "9ed6cca2",
   "metadata": {},
   "outputs": [
    {
     "name": "stdout",
     "output_type": "stream",
     "text": [
      "[100, 64, 25, 22, 12, 11, 5]\n",
      "4\n"
     ]
    }
   ],
   "source": [
    "arr = [64, 25, 12,100, 22, 11,5]\n",
    "count_swap=0\n",
    "for i in range(len(arr)):\n",
    "    for j in range(i+1,len(arr)):\n",
    "        if arr[i]<arr[j]:\n",
    "            arr[i],arr[j]=arr[j],arr[i]\n",
    "            count_swap+=1\n",
    "\n",
    "print(arr)\n",
    "print(count_swap)"
   ]
  },
  {
   "cell_type": "code",
   "execution_count": 16,
   "id": "51425c8f",
   "metadata": {},
   "outputs": [
    {
     "name": "stdout",
     "output_type": "stream",
     "text": [
      "25\n",
      "[25, 64, 12, 100, 22, 11, 5]\n",
      "12\n",
      "[12, 25, 64, 100, 22, 11, 5]\n",
      "100\n",
      "[12, 25, 64, 100, 22, 11, 5]\n",
      "22\n",
      "[12, 22, 25, 64, 100, 11, 5]\n",
      "11\n",
      "[11, 12, 22, 25, 64, 100, 5]\n",
      "5\n",
      "[5, 11, 12, 22, 25, 64, 100]\n",
      "[5, 11, 12, 22, 25, 64, 100]\n",
      "0\n"
     ]
    }
   ],
   "source": [
    "arr = [64, 25, 12,100, 22, 11,5]\n",
    "count_swap=0\n",
    "\n",
    "for i in range(1,len(arr)):\n",
    "    key=arr[i]\n",
    "    j=i-1\n",
    "    while j>=0 and arr[j]>key:\n",
    "        arr[j+1]=arr[j]\n",
    "        j-=1\n",
    "    arr[j+1]=key\n",
    "    print(key)\n",
    "    print(arr)\n",
    "\n",
    "print(arr)\n",
    "print(count_swap)"
   ]
  },
  {
   "cell_type": "code",
   "execution_count": 10,
   "id": "0149c958",
   "metadata": {},
   "outputs": [
    {
     "name": "stdout",
     "output_type": "stream",
     "text": [
      "[10, 20, 30]\n",
      "30\n",
      "[10, 20]\n"
     ]
    }
   ],
   "source": [
    "class mystack:\n",
    "    def __init__(self):\n",
    "        self.capacity=10\n",
    "        self.top=-1\n",
    "        self.arr=[None]*self.capacity\n",
    "\n",
    "    def push(self,d):\n",
    "        if self.top>self.capacity-1:\n",
    "            print(\"overflow\")\n",
    "            return\n",
    "        self.top+=1\n",
    "        self.arr[self.top]=d\n",
    "\n",
    "    def pop(self):\n",
    "        if self.top==-1:\n",
    "            print(\"underflow\")\n",
    "            return\n",
    "        p=self.arr[self.top]\n",
    "        self.top-=1\n",
    "        return p\n",
    "    \n",
    "    def display(self):\n",
    "        print(self.arr[:self.top+1])\n",
    "\n",
    "s1=mystack()\n",
    "s1.push(10)\n",
    "s1.push(20)\n",
    "s1.push(30)\n",
    "s1.display()\n",
    "print(s1.pop())\n",
    "s1.display()"
   ]
  },
  {
   "cell_type": "code",
   "execution_count": 17,
   "id": "ff43ced7",
   "metadata": {},
   "outputs": [
    {
     "name": "stdout",
     "output_type": "stream",
     "text": [
      "True\n"
     ]
    }
   ],
   "source": [
    "def is_balanced(expr):\n",
    "    stack=[]\n",
    "    pair={']':'[','}':'{',')':'('}\n",
    "    for ch in expr:\n",
    "        if ch in pair.values():\n",
    "            stack.append(ch)\n",
    "        elif ch in pair:\n",
    "            if not stack or stack[-1]!=pair[ch]:\n",
    "                return False\n",
    "            stack.pop()\n",
    "    if not stack:\n",
    "        return True\n",
    "    else:\n",
    "        return False\n",
    "\n",
    "\n",
    "e=\"[a()]\"\n",
    "print(is_balanced(e))\n",
    "        \n"
   ]
  },
  {
   "cell_type": "code",
   "execution_count": null,
   "id": "252e2307",
   "metadata": {},
   "outputs": [
    {
     "data": {
      "text/plain": [
       "')'"
      ]
     },
     "execution_count": 4,
     "metadata": {},
     "output_type": "execute_result"
    }
   ],
   "source": [
    "pair={'(':')','{':'}','[':']'}\n",
    "pair['(']"
   ]
  },
  {
   "cell_type": "code",
   "execution_count": 22,
   "id": "1c0befab",
   "metadata": {},
   "outputs": [
    {
     "name": "stdout",
     "output_type": "stream",
     "text": [
      "abc*+\n"
     ]
    }
   ],
   "source": [
    "def inf_to_post(expr):\n",
    "    stack = []\n",
    "    output = []\n",
    "\n",
    "    precedence = {'+': 1, '-': 1, '*': 2, '/': 2, '^': 3}\n",
    "    associativity = {'+': 'L', '-': 'L', '*': 'L', '/': 'L', '^': 'R'}\n",
    "\n",
    "    for ch in expr:\n",
    "        if ch.isalnum():  # Operand\n",
    "            output.append(ch)\n",
    "        elif ch == '(':\n",
    "            stack.append(ch)\n",
    "        elif ch == ')':\n",
    "            while stack and stack[-1] != '(':\n",
    "                output.append(stack.pop())\n",
    "            stack.pop()  # remove '('\n",
    "        elif ch in precedence:\n",
    "            while (stack and stack[-1] != '(' and (\n",
    "                precedence[ch] < precedence[stack[-1]] or\n",
    "                (precedence[ch] == precedence[stack[-1]] and associativity[ch] == 'L')\n",
    "            )):\n",
    "                output.append(stack.pop())\n",
    "            stack.append(ch)\n",
    "\n",
    "    while stack:\n",
    "        output.append(stack.pop())\n",
    "\n",
    "    print(''.join(output))\n",
    "inf_to_post(\"a+b*c\")"
   ]
  }
 ],
 "metadata": {
  "kernelspec": {
   "display_name": "base",
   "language": "python",
   "name": "python3"
  },
  "language_info": {
   "codemirror_mode": {
    "name": "ipython",
    "version": 3
   },
   "file_extension": ".py",
   "mimetype": "text/x-python",
   "name": "python",
   "nbconvert_exporter": "python",
   "pygments_lexer": "ipython3",
   "version": "3.12.7"
  }
 },
 "nbformat": 4,
 "nbformat_minor": 5
}
