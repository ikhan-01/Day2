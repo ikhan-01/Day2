{
 "cells": [
  {
   "cell_type": "code",
   "execution_count": null,
   "id": "ace1ddd6",
   "metadata": {},
   "outputs": [],
   "source": [
    "class mystack:\n",
    "    def __init__(self, c):\n",
    "        self.capacity=c\n",
    "        self.top=-1\n",
    "        self.arr=[None]*self.capacity\n",
    "\n",
    "    def push (self,d):\n",
    "        print(self.top,self.capacity)\n",
    "        if(self.top>=self.capacity-1):\n",
    "            print(\"Overflow\")\n",
    "            return\n",
    "        self.top+=1\n",
    "        self.arr[self.top]=d\n",
    "\n",
    "    def pop(self):\n",
    "        if self.top==-1:\n",
    "            print(\"Underflow\")\n",
    "            return\n",
    "        ele=self.arr[self.top]\n",
    "        self.top-=1\n",
    "        return ele\n",
    "    \n",
    "\n",
    "    def display_stack(self):\n",
    "        print(\"Our Stack : \", end=\" \")\n",
    "        for i in range(self.top+1):\n",
    "            print(self.arr[i],end=\" \")"
   ]
  },
  {
   "cell_type": "code",
   "execution_count": 26,
   "id": "7d478999",
   "metadata": {},
   "outputs": [
    {
     "name": "stdout",
     "output_type": "stream",
     "text": [
      "-1 4\n",
      "0 4\n",
      "1 4\n",
      "2 4\n",
      "3 4\n",
      "Overflow\n",
      "Our Stack :  10 20 30 40 "
     ]
    }
   ],
   "source": [
    "s1=mystack(4)\n",
    "s1.push(10)\n",
    "s1.push(20)\n",
    "s1.push(30)\n",
    "s1.push(40)\n",
    "s1.push(50)\n",
    "s1.display_stack()"
   ]
  },
  {
   "cell_type": "code",
   "execution_count": 23,
   "id": "32be3568",
   "metadata": {},
   "outputs": [
    {
     "data": {
      "text/plain": [
       "True"
      ]
     },
     "execution_count": 23,
     "metadata": {},
     "output_type": "execute_result"
    }
   ],
   "source": [
    "3>=3"
   ]
  },
  {
   "cell_type": "code",
   "execution_count": 33,
   "id": "417c464f",
   "metadata": {},
   "outputs": [
    {
     "name": "stdout",
     "output_type": "stream",
     "text": [
      "dict_values(['[', '{', '('])\n",
      "dict_keys([']', '}', ')'])\n",
      "[\n"
     ]
    }
   ],
   "source": [
    "s={']':'[','}':'{',')':'('}\n",
    "s\n",
    "print(s.values())\n",
    "print(s.keys())\n",
    "print(s[']'])"
   ]
  },
  {
   "cell_type": "code",
   "execution_count": null,
   "id": "b0c0c538",
   "metadata": {},
   "outputs": [
    {
     "ename": "IndexError",
     "evalue": "list index out of range",
     "output_type": "error",
     "traceback": [
      "\u001b[1;31m---------------------------------------------------------------------------\u001b[0m",
      "\u001b[1;31mIndexError\u001b[0m                                Traceback (most recent call last)",
      "Cell \u001b[1;32mIn[40], line 17\u001b[0m\n\u001b[0;32m     14\u001b[0m     \u001b[38;5;28;01melse\u001b[39;00m:\n\u001b[0;32m     15\u001b[0m         \u001b[38;5;28;01mreturn\u001b[39;00m \u001b[38;5;28;01mTrue\u001b[39;00m\n\u001b[1;32m---> 17\u001b[0m \u001b[38;5;28mprint\u001b[39m(isbalan(\u001b[38;5;124m'\u001b[39m\u001b[38;5;124m(\u001b[39m\u001b[38;5;132;01m{b[a]}\u001b[39;00m\u001b[38;5;124m)\u001b[39m\u001b[38;5;124m'\u001b[39m))\n",
      "Cell \u001b[1;32mIn[40], line 9\u001b[0m, in \u001b[0;36misbalan\u001b[1;34m(exp)\u001b[0m\n\u001b[0;32m      6\u001b[0m     stack\u001b[38;5;241m.\u001b[39mappend(ch)\n\u001b[0;32m      7\u001b[0m \u001b[38;5;66;03m#elif ch in s:\u001b[39;00m\n\u001b[0;32m      8\u001b[0m \u001b[38;5;28;01melse\u001b[39;00m:\n\u001b[1;32m----> 9\u001b[0m     \u001b[38;5;28;01mif\u001b[39;00m \u001b[38;5;129;01mnot\u001b[39;00m stack \u001b[38;5;129;01mand\u001b[39;00m stack[\u001b[38;5;241m-\u001b[39m\u001b[38;5;241m1\u001b[39m]\u001b[38;5;241m!=\u001b[39ms[ch]:\n\u001b[0;32m     10\u001b[0m         \u001b[38;5;28;01mreturn\u001b[39;00m \u001b[38;5;28;01mFalse\u001b[39;00m\n\u001b[0;32m     11\u001b[0m     stack\u001b[38;5;241m.\u001b[39mpop()\n",
      "\u001b[1;31mIndexError\u001b[0m: list index out of range"
     ]
    }
   ],
   "source": [
    "def isbalan(exp):\n",
    "    s={']':'[','}':'{',')':'('}\n",
    "    stack=[]\n",
    "    for ch in exp:\n",
    "        if ch in s.values():\n",
    "            stack.append(ch)\n",
    "        elif ch in s:\n",
    "            if not stack and stack[-1]!=s[ch]:\n",
    "                return False\n",
    "            stack.pop()\n",
    "    if stack:\n",
    "        return False\n",
    "    else:\n",
    "        return True\n",
    "\n",
    "print(isbalan('({b[a]})')) "
   ]
  }
 ],
 "metadata": {
  "kernelspec": {
   "display_name": "base",
   "language": "python",
   "name": "python3"
  },
  "language_info": {
   "codemirror_mode": {
    "name": "ipython",
    "version": 3
   },
   "file_extension": ".py",
   "mimetype": "text/x-python",
   "name": "python",
   "nbconvert_exporter": "python",
   "pygments_lexer": "ipython3",
   "version": "3.12.7"
  }
 },
 "nbformat": 4,
 "nbformat_minor": 5
}
