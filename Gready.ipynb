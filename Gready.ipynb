{
 "cells": [
  {
   "cell_type": "markdown",
   "id": "9b25dddb",
   "metadata": {},
   "source": [
    "Fractional Knapsack"
   ]
  },
  {
   "cell_type": "code",
   "execution_count": null,
   "id": "676086d5",
   "metadata": {},
   "outputs": [],
   "source": [
    "n=3\n",
    "c=25\n",
    "wgt=[20,5,10]\n",
    "pft=[30,15,10]\n",
    "ratio=[0]*n\n",
    "for i in range(n):\n",
    "    ratio[i]=pft[i]/wgt[i]\n",
    "\n",
    "item=[None]*n\n",
    "for i in range(n):\n",
    "    item[i]=ratio[i],wgt[i],pft[i]\n",
    "\n",
    "print(item)\n",
    "item.sort(reverse=True)\n",
    "print(item)\n",
    "\n",
    "tw=0\n",
    "tp=0\n",
    "for i in range(n):\n",
    "    ratio,w,p=item[i]\n",
    "    if tw + w <= c:\n",
    "        tw += w\n",
    "        tp += p\n",
    "    else:\n",
    "        remain = c - tw\n",
    "        tp += ratio * remain\n",
    "        tw += remain\n",
    "        break\n",
    "print(tw,tp)"
   ]
  }
 ],
 "metadata": {
  "kernelspec": {
   "display_name": ".venv",
   "language": "python",
   "name": "python3"
  },
  "language_info": {
   "codemirror_mode": {
    "name": "ipython",
    "version": 3
   },
   "file_extension": ".py",
   "mimetype": "text/x-python",
   "name": "python",
   "nbconvert_exporter": "python",
   "pygments_lexer": "ipython3",
   "version": "3.13.5"
  }
 },
 "nbformat": 4,
 "nbformat_minor": 5
}
