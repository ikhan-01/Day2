{
 "cells": [
  {
   "cell_type": "markdown",
   "id": "9b25dddb",
   "metadata": {},
   "source": [
    "Fractional Knapsack"
   ]
  },
  {
   "cell_type": "code",
   "execution_count": null,
   "id": "676086d5",
   "metadata": {},
   "outputs": [
    {
     "name": "stdout",
     "output_type": "stream",
     "text": [
      "25 45.0\n"
     ]
    }
   ],
   "source": [
    "n=3\n",
    "c=25\n",
    "wgt=[20,5,10]\n",
    "pft=[30,15,10]\n",
    "ratio=[0]*n\n",
    "for i in range(n):\n",
    "    ratio[i]=pft[i]/wgt[i]\n",
    "\n",
    "item=[None]*n\n",
    "for i in range(n):\n",
    "    item[i]=ratio[i],wgt[i],pft[i]\n",
    "\n",
    "#print(item)\n",
    "item.sort(reverse=True)\n",
    "#print(item)\n",
    "\n",
    "tw=0\n",
    "tp=0\n",
    "for i in range(n):\n",
    "    ratio,w,p=item[i]\n",
    "    if tw + w <= c:\n",
    "        tw += w\n",
    "        tp += p\n",
    "    else:\n",
    "        remain = c - tw\n",
    "        tp += ratio * remain\n",
    "        tw += remain\n",
    "        break\n",
    "print(tw,tp)\n"
   ]
  },
  {
   "cell_type": "markdown",
   "id": "0d1f3c68",
   "metadata": {},
   "source": [
    "Optimal Merge patterns"
   ]
  },
  {
   "cell_type": "code",
   "execution_count": null,
   "id": "2177291e",
   "metadata": {},
   "outputs": [
    {
     "name": "stdout",
     "output_type": "stream",
     "text": [
      "Minimum cost of merging is: 205 Comparisons\n"
     ]
    }
   ],
   "source": [
    "# brute force like\n",
    "def optimal_merge(files):\n",
    "    files.sort()\n",
    "    cost = 0\n",
    "    while len(files) > 1:\n",
    "        merged_file_size = files[0] + files[1]\n",
    "        cost += merged_file_size\n",
    "        files[0] = merged_file_size\n",
    "        files.pop(1)\n",
    "        files.sort()\n",
    "    return cost\n",
    "files = [5, 10, 20, 30, 30]\n",
    "min_cost = optimal_merge(files)\n",
    "print(\"Minimum cost of merging is:\", min_cost, \"Comparisons\")"
   ]
  },
  {
   "cell_type": "code",
   "execution_count": null,
   "id": "83c2f07a",
   "metadata": {},
   "outputs": [
    {
     "name": "stdout",
     "output_type": "stream",
     "text": [
      "Minimum cost of merging is: 205 Comparisons\n"
     ]
    }
   ],
   "source": [
    "# optimised\n",
    "import heapq\n",
    "\n",
    "def optimal_merge(files):\n",
    "    heapq.heapify(files)\n",
    "    cost = 0\n",
    "\n",
    "    while len(files) > 1:\n",
    "        first = heapq.heappop(files)\n",
    "        second = heapq.heappop(files)\n",
    "        merged_file_size = first + second\n",
    "        cost += merged_file_size\n",
    "        heapq.heappush(files, merged_file_size)\n",
    "\n",
    "    return cost\n",
    "\n",
    "# Example usage\n",
    "files = [5, 10, 20, 30, 30]\n",
    "min_cost = optimal_merge(files)\n",
    "print(\"Minimum cost of merging is:\", min_cost, \"Comparisons\")\n",
    "\n"
   ]
  },
  {
   "cell_type": "markdown",
   "id": "c9df9f00",
   "metadata": {},
   "source": [
    "Job Sequencing With deadlines(Return max no. jobs and max profit)"
   ]
  },
  {
   "cell_type": "code",
   "execution_count": 5,
   "id": "a88be3df",
   "metadata": {},
   "outputs": [
    {
     "name": "stdout",
     "output_type": "stream",
     "text": [
      "[2, 60]\n"
     ]
    }
   ],
   "source": [
    "def jobScheduling(deadline, profit):\n",
    "    jobs = sorted(zip(profit, deadline), reverse=True)\n",
    "    max_deadline = max(deadline)\n",
    "    slots = [False] * (max_deadline + 1)\n",
    "    count = total = 0\n",
    "    for p, d in jobs:\n",
    "        for i in range(d, 0, -1):\n",
    "            if not slots[i]:\n",
    "                slots[i] = True\n",
    "                count += 1\n",
    "                total += p\n",
    "                break\n",
    "    return [count, total]\n",
    "\n",
    "d = [4, 1, 1, 1]\n",
    "p = [20, 10, 40, 30]\n",
    "\n",
    "print(jobScheduling(d, p))"
   ]
  }
 ],
 "metadata": {
  "kernelspec": {
   "display_name": ".venv",
   "language": "python",
   "name": "python3"
  },
  "language_info": {
   "codemirror_mode": {
    "name": "ipython",
    "version": 3
   },
   "file_extension": ".py",
   "mimetype": "text/x-python",
   "name": "python",
   "nbconvert_exporter": "python",
   "pygments_lexer": "ipython3",
   "version": "3.13.5"
  }
 },
 "nbformat": 4,
 "nbformat_minor": 5
}
