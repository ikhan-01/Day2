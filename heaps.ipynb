{
 "cells": [
  {
   "cell_type": "code",
   "execution_count": null,
   "id": "5eec065b",
   "metadata": {},
   "outputs": [
    {
     "name": "stdout",
     "output_type": "stream",
     "text": [
      "Heap: [20, 17, 10, 15]\n",
      "20\n",
      "Heap: [17, 15, 10]\n"
     ]
    }
   ],
   "source": [
    "class MaxHeap:\n",
    "    def __init__(self):\n",
    "        self.heap = []\n",
    "\n",
    "    def _max_heapify(self, i):\n",
    "        size = len(self.heap)\n",
    "        left = 2 * i + 1\n",
    "        right = 2 * i + 2\n",
    "\n",
    "        if left < size and self.heap[left] > self.heap[largest]:\n",
    "            largest = left\n",
    "        else:\n",
    "            largest = i\n",
    "        if right < size and self.heap[right] > self.heap[largest]:\n",
    "            largest = right\n",
    "\n",
    "        if largest != i:\n",
    "            self.heap[i], self.heap[largest] = self.heap[largest], self.heap[i]\n",
    "            self._max_heapify(largest)\n",
    "\n",
    "    def build_heap(self, arr):\n",
    "        self.heap = arr[:]  \n",
    "        size = len(self.heap)\n",
    "        for i in range((size // 2) - 1, -1, -1):  # From last non-leaf to root\n",
    "            self._max_heapify(i)\n",
    "\n",
    "    def extract_max(self):\n",
    "        if not self.heap:\n",
    "            return None\n",
    "        if len(self.heap) == 1:\n",
    "            return self.heap.pop()\n",
    "\n",
    "        max_val = self.heap[0]\n",
    "        self.heap[0] = self.heap.pop()\n",
    "        self._max_heapify(0)\n",
    "        return max_val\n",
    "\n",
    "    def peek(self):\n",
    "        return self.heap[0] if self.heap else None\n",
    "\n",
    "    def display(self):\n",
    "        print(\"Heap:\", self.heap)\n",
    "\n",
    "h = MaxHeap()\n",
    "h.build_heap([10,15,20,17])\n",
    "h.display()            \n",
    "print(h.extract_max()) \n",
    "h.display()            "
   ]
  }
 ],
 "metadata": {
  "kernelspec": {
   "display_name": ".venv",
   "language": "python",
   "name": "python3"
  },
  "language_info": {
   "codemirror_mode": {
    "name": "ipython",
    "version": 3
   },
   "file_extension": ".py",
   "mimetype": "text/x-python",
   "name": "python",
   "nbconvert_exporter": "python",
   "pygments_lexer": "ipython3",
   "version": "3.13.5"
  }
 },
 "nbformat": 4,
 "nbformat_minor": 5
}
