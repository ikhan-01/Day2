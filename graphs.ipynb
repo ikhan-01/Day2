{
 "cells": [
  {
   "cell_type": "code",
   "execution_count": 9,
   "id": "618b1dcb",
   "metadata": {},
   "outputs": [
    {
     "name": "stdout",
     "output_type": "stream",
     "text": [
      "0 1 2 3 4 5 connected\n",
      "\n"
     ]
    }
   ],
   "source": [
    "from collections import deque\n",
    "\n",
    "def bfs(graph, start):\n",
    "    visited = set()\n",
    "    Q = deque([start])\n",
    "\n",
    "    while Q:\n",
    "        n = Q.popleft()\n",
    "        if n not in visited:\n",
    "            print(n, end=\" \")\n",
    "            visited.add(n)\n",
    "            #print(\"current lenght\",len(visited))\n",
    "            for adj in graph[n]:\n",
    "                if adj not in visited:\n",
    "                    Q.append(adj)\n",
    "    if(len(visited)!=len(graph)):\n",
    "        print(\"Not connected\")\n",
    "    else:\n",
    "        print(\"connected\")\n",
    "\n",
    "\n",
    "def dfs(graph,node,visited=None):\n",
    "    if visited==None:\n",
    "        visited=set()\n",
    "    visited.add(node)\n",
    "    print(node, end=\" \")\n",
    "    for adj in graph[node]:\n",
    "        if adj not in visited:\n",
    "            dfs(graph,adj,visited)\n",
    "\n",
    "    \n",
    "\n",
    "\n",
    "graph = {\n",
    "    0: [1, 2],\n",
    "    1: [0, 3, 4],\n",
    "    2: [0],\n",
    "    3: [1],\n",
    "    4: [1, 5],\n",
    "    5: [4]\n",
    "}\n",
    "\n",
    "bfs(graph, 0)\n",
    "print()\n",
    "#dfs(graph,0)"
   ]
  },
  {
   "cell_type": "code",
   "execution_count": 1,
   "id": "d3b6a21e",
   "metadata": {},
   "outputs": [
    {
     "name": "stdout",
     "output_type": "stream",
     "text": [
      "6\n"
     ]
    }
   ],
   "source": [
    "graph = {\n",
    "    0: [1, 2],\n",
    "    1: [0, 3, 4],\n",
    "    2: [0],\n",
    "    3: [1],\n",
    "    4: [1, 5],\n",
    "    5: [4]\n",
    "}\n",
    "print(len(graph))"
   ]
  },
  {
   "cell_type": "code",
   "execution_count": null,
   "id": "4db89a4f",
   "metadata": {},
   "outputs": [],
   "source": [
    "from collections import deque\n",
    "\n",
    "def bfs_matrix(graph, start):\n",
    "    visited = [False] * len(graph)\n",
    "    Q = deque([start])\n",
    "    visited[start] = True\n",
    "\n",
    "    while Q:\n",
    "        node = Q.popleft()\n",
    "        print(node)\n",
    "\n",
    "        for adj in range(len(graph[node])):\n",
    "            if graph[node][adj] and not visited[adj]:\n",
    "                visited[adj] = True\n",
    "                Q.append(adj)\n",
    "\n",
    "def dfs(graph, node, visited=None):\n",
    "    if visited is None:\n",
    "        visited = [False] * len(graph)\n",
    "    visited[node] = True\n",
    "    print(node)\n",
    "\n",
    "    for adj in range(len(graph[node])):\n",
    "        if graph[node][adj] == 1 and not visited[adj]:\n",
    "            dfs(graph, adj, visited)\n",
    "\n",
    "graph = [\n",
    "    [0, 1, 1, 0],  \n",
    "    [1, 0, 0, 1],  \n",
    "    [1, 0, 0, 1],  \n",
    "    [0, 1, 1, 0]   \n",
    "]\n",
    "\n",
    "bfs_matrix(graph, 0)\n"
   ]
  }
 ],
 "metadata": {
  "kernelspec": {
   "display_name": ".venv",
   "language": "python",
   "name": "python3"
  },
  "language_info": {
   "codemirror_mode": {
    "name": "ipython",
    "version": 3
   },
   "file_extension": ".py",
   "mimetype": "text/x-python",
   "name": "python",
   "nbconvert_exporter": "python",
   "pygments_lexer": "ipython3",
   "version": "3.13.5"
  }
 },
 "nbformat": 4,
 "nbformat_minor": 5
}
