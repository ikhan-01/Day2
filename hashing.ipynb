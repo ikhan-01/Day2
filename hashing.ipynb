{
 "cells": [
  {
   "cell_type": "code",
   "execution_count": null,
   "id": "ca7fd333",
   "metadata": {},
   "outputs": [
    {
     "name": "stdout",
     "output_type": "stream",
     "text": [
      "[('a', 7), ('b', 4), ('c', 3)]\n"
     ]
    }
   ],
   "source": [
    "\n",
    "def frequency_map(s):\n",
    "    result = []\n",
    "\n",
    "    for i in range(len(s)):\n",
    "        already_counted = False\n",
    "        for pair in result:\n",
    "            if pair[0] == s[i]:\n",
    "                already_counted = True\n",
    "                break\n",
    "\n",
    "        if not already_counted:\n",
    "            count = 0\n",
    "            for j in range(len(s)):\n",
    "                if s[i] == s[j]:\n",
    "                    count += 1\n",
    "            result.append((s[i], count))\n",
    "    \n",
    "    return result\n",
    "\n",
    "s = \"aaaaabbbbaaccc\"\n",
    "print(frequency_map(s))\n",
    "\n"
   ]
  },
  {
   "cell_type": "code",
   "execution_count": null,
   "id": "b105f2f0",
   "metadata": {},
   "outputs": [],
   "source": [
    "def frequency_map2(s):\n",
    "    result = []\n",
    "    counted = set()\n",
    "    \n",
    "    for i in range(len(s)):\n",
    "        if s[i] not in counted:\n",
    "            count = 0\n",
    "            for j in range(len(s)):\n",
    "                if s[i] == s[j]:\n",
    "                    count += 1\n",
    "            result.append((s[i], count))\n",
    "            counted.add(s[i])\n",
    "    \n",
    "    return result\n",
    "\n",
    "s = \"aaaaabbbbaaccc\"\n",
    "print(frequency_map2(s))"
   ]
  },
  {
   "cell_type": "code",
   "execution_count": 1,
   "id": "c55072cf",
   "metadata": {},
   "outputs": [
    {
     "name": "stdout",
     "output_type": "stream",
     "text": [
      "{'a': 7, 'b': 4, 'c': 3}\n"
     ]
    }
   ],
   "source": [
    "def frequency_map(s):\n",
    "    freq = {}\n",
    "    for char in s:\n",
    "        freq[char] = freq.get(char, 0) + 1\n",
    "    return freq\n",
    "\n",
    "s = \"aaaaabbbbaaccc\"\n",
    "print(frequency_map(s))"
   ]
  },
  {
   "cell_type": "markdown",
   "id": "0d20b955",
   "metadata": {},
   "source": [
    "Given an array and a target sum, count the number of pairs that add up to the sum."
   ]
  },
  {
   "cell_type": "code",
   "execution_count": 3,
   "id": "88c521ae",
   "metadata": {},
   "outputs": [
    {
     "name": "stdout",
     "output_type": "stream",
     "text": [
      "3\n"
     ]
    }
   ],
   "source": [
    "def count_pairs_brute(arr, target):\n",
    "    count = 0\n",
    "    for i in range(len(arr)):\n",
    "        for j in range(i+1, len(arr)):\n",
    "            if arr[i] + arr[j] == target:\n",
    "                count += 1\n",
    "    return count\n",
    "\n",
    "arr = [1, 5, 7, -1, 5]\n",
    "target = 6\n",
    "print(count_pairs_brute(arr, target))"
   ]
  },
  {
   "cell_type": "code",
   "execution_count": 6,
   "id": "5d166d6e",
   "metadata": {},
   "outputs": [
    {
     "name": "stdout",
     "output_type": "stream",
     "text": [
      "{1: 1, 5: 2, 7: 1, -1: 1}\n",
      "3\n"
     ]
    }
   ],
   "source": [
    "def count_pairs(arr, target):\n",
    "    freq = {}\n",
    "    count = 0\n",
    "\n",
    "    for num in arr:\n",
    "        complement = target - num\n",
    "        count += freq.get(complement, 0)\n",
    "        freq[num] = freq.get(num, 0) + 1\n",
    "    print(freq)\n",
    "\n",
    "    return count\n",
    "\n",
    "arr = [1, 5, 7, -1, 5]\n",
    "target = 6\n",
    "print(count_pairs(arr, target)) \n"
   ]
  },
  {
   "cell_type": "markdown",
   "id": "d5ba31b4",
   "metadata": {},
   "source": [
    "Given a string, find the length of the longest substring with all unique characters."
   ]
  },
  {
   "cell_type": "code",
   "execution_count": 4,
   "id": "53f1c02e",
   "metadata": {},
   "outputs": [
    {
     "name": "stdout",
     "output_type": "stream",
     "text": [
      "3\n"
     ]
    }
   ],
   "source": [
    "def longest_unique_substring_brute(s):\n",
    "    max_len = 0\n",
    "    for i in range(len(s)):\n",
    "        for j in range(i, len(s)):\n",
    "            substring = s[i:j+1]\n",
    "            if len(set(substring)) == len(substring):  # All unique\n",
    "                max_len = max(max_len, len(substring))\n",
    "    return max_len\n",
    "\n",
    "s = \"abcabcbb\"\n",
    "print(longest_unique_substring_brute(s))  # Output: 3\n"
   ]
  },
  {
   "cell_type": "code",
   "execution_count": null,
   "id": "b119e10e",
   "metadata": {},
   "outputs": [],
   "source": [
    "def longest_unique_substring(s):\n",
    "    char_index = {}\n",
    "    left = 0\n",
    "    max_len = 0\n",
    "\n",
    "    for right in range(len(s)):\n",
    "        if s[right] in char_index and char_index[s[right]] >= left:\n",
    "            left = char_index[s[right]] + 1\n",
    "        char_index[s[right]] = right\n",
    "        max_len = max(max_len, right - left + 1)\n",
    "\n",
    "    return max_len\n",
    "\n",
    "# Example\n",
    "s = \"abcabcbb\"\n"
   ]
  },
  {
   "cell_type": "markdown",
   "id": "35870be6",
   "metadata": {},
   "source": [
    "Given an array of integers, check if any value appears at least twice."
   ]
  },
  {
   "cell_type": "code",
   "execution_count": 7,
   "id": "f5c67227",
   "metadata": {},
   "outputs": [
    {
     "name": "stdout",
     "output_type": "stream",
     "text": [
      "True\n"
     ]
    }
   ],
   "source": [
    "def has_duplicate(arr):\n",
    "    n = len(arr)\n",
    "    for i in range(n):\n",
    "        for j in range(i + 1, n):\n",
    "            if arr[i] == arr[j]:\n",
    "                return True\n",
    "    return False\n",
    "arr = [1, 2, 3, 2, 4, 5, 1, 3, 6]\n",
    "print(has_duplicate(arr))"
   ]
  },
  {
   "cell_type": "code",
   "execution_count": null,
   "id": "021f9aad",
   "metadata": {},
   "outputs": [
    {
     "name": "stdout",
     "output_type": "stream",
     "text": [
      "True\n"
     ]
    }
   ],
   "source": [
    "def contains_duplicate(nums):\n",
    "    seen = set()\n",
    "    for num in nums:\n",
    "        if num in seen:\n",
    "            return True\n",
    "        seen.add(num)\n",
    "    return False\n",
    "\n",
    "print(contains_duplicate(arr))\n"
   ]
  },
  {
   "cell_type": "markdown",
   "id": "b9d0e8e8",
   "metadata": {},
   "source": [
    "print dupilcate no's"
   ]
  },
  {
   "cell_type": "code",
   "execution_count": 13,
   "id": "3ef7a7bd",
   "metadata": {},
   "outputs": [
    {
     "name": "stdout",
     "output_type": "stream",
     "text": [
      "[1, 2, 3, 2, 4, 5, 1, 3, 6]\n",
      "1\n",
      "2\n",
      "3\n"
     ]
    }
   ],
   "source": [
    "def print_duplicates(arr):\n",
    "    freq = {}\n",
    "\n",
    "    for num in arr:\n",
    "        freq[num] = freq.get(num, 0) + 1\n",
    "\n",
    "    for num, count in freq.items():\n",
    "        if count > 1:\n",
    "            print(num)\n",
    "print(arr)\n",
    "print_duplicates(arr)"
   ]
  },
  {
   "cell_type": "markdown",
   "id": "e2a963a4",
   "metadata": {},
   "source": [
    "Check if there exists a subarray (contiguous) with sum = 0."
   ]
  },
  {
   "cell_type": "code",
   "execution_count": 16,
   "id": "2ff969df",
   "metadata": {},
   "outputs": [
    {
     "name": "stdout",
     "output_type": "stream",
     "text": [
      "[1, 2, 3, 2, 4, 5, 1, 3, 6]\n",
      "False\n"
     ]
    }
   ],
   "source": [
    "def has_zero_sum_subarray(arr):\n",
    "    n = len(arr)\n",
    "    for i in range(n):\n",
    "        sum_ = 0\n",
    "        for j in range(i, n):\n",
    "            sum_ += arr[j]\n",
    "            if sum_ == 0:\n",
    "                return True\n",
    "    return False\n",
    "print(arr)\n",
    "print(has_zero_sum_subarray(arr))"
   ]
  },
  {
   "cell_type": "markdown",
   "id": "803f174f",
   "metadata": {},
   "source": [
    "Key Insight:\n",
    "Track the prefix sum (cumulative sum from index 0 to i).\n",
    "If the same prefix sum is seen twice, it means the subarray in between has sum 0."
   ]
  },
  {
   "cell_type": "code",
   "execution_count": 17,
   "id": "cf9c5dd4",
   "metadata": {},
   "outputs": [
    {
     "name": "stdout",
     "output_type": "stream",
     "text": [
      "False\n"
     ]
    }
   ],
   "source": [
    "def has_zero_sum_subarray(arr):\n",
    "    seen = set()\n",
    "    prefix_sum = 0\n",
    "\n",
    "    for num in arr:\n",
    "        prefix_sum += num\n",
    "        if prefix_sum == 0 or prefix_sum in seen:\n",
    "            return True\n",
    "        seen.add(prefix_sum)\n",
    "    \n",
    "    return False\n",
    "print(has_zero_sum_subarray(arr))"
   ]
  },
  {
   "cell_type": "code",
   "execution_count": 18,
   "id": "ebc094d8",
   "metadata": {},
   "outputs": [
    {
     "name": "stdout",
     "output_type": "stream",
     "text": [
      "True\n",
      "False\n",
      "True\n"
     ]
    }
   ],
   "source": [
    "arr1 = [4, 2, -3, 1, 6]\n",
    "arr2 = [1, 2, 3]\n",
    "arr3 = [-3, 1, 2]\n",
    "\n",
    "print(has_zero_sum_subarray(arr1))  \n",
    "print(has_zero_sum_subarray(arr2))  \n",
    "print(has_zero_sum_subarray(arr3)) "
   ]
  },
  {
   "cell_type": "markdown",
   "id": "83d10348",
   "metadata": {},
   "source": [
    "Count how many unique elements are in the array."
   ]
  },
  {
   "cell_type": "code",
   "execution_count": 24,
   "id": "1578462e",
   "metadata": {},
   "outputs": [],
   "source": [
    "def count_unique(arr):\n",
    "    count = 0\n",
    "\n",
    "    for i in range(len(arr)):\n",
    "        is_unique = True\n",
    "        for j in range(len(arr)):\n",
    "            if arr[i] == arr[j]:\n",
    "                is_unique = False\n",
    "                break\n",
    "        if is_unique:\n",
    "            count += 1\n",
    "\n",
    "    return count\n"
   ]
  },
  {
   "cell_type": "code",
   "execution_count": 25,
   "id": "6a3213d0",
   "metadata": {},
   "outputs": [
    {
     "name": "stdout",
     "output_type": "stream",
     "text": [
      "[1, 2, 3, 2, 4, 5, 1, 3, 6]\n",
      "6\n"
     ]
    }
   ],
   "source": [
    "def count_distinct(arr):\n",
    "    return len(set(arr))\n",
    "print(arr)\n",
    "print(count_distinct(arr))"
   ]
  },
  {
   "cell_type": "markdown",
   "id": "f8a85ad6",
   "metadata": {},
   "source": [
    "Return all unique elements from both arrays."
   ]
  },
  {
   "cell_type": "code",
   "execution_count": null,
   "id": "199d6587",
   "metadata": {},
   "outputs": [],
   "source": [
    "def union_brute(arr1, arr2):\n",
    "    result = []\n",
    "\n",
    "    for i in arr1:\n",
    "        if i not in result:\n",
    "            result.append(i)\n",
    "\n",
    "    for j in arr2:\n",
    "        if j not in result:\n",
    "            result.append(j)\n",
    "\n",
    "    return result\n"
   ]
  },
  {
   "cell_type": "code",
   "execution_count": 21,
   "id": "18f9e704",
   "metadata": {},
   "outputs": [
    {
     "name": "stdout",
     "output_type": "stream",
     "text": [
      "{1, 2, 3, 4, 5}\n"
     ]
    }
   ],
   "source": [
    "def union(arr1, arr2):\n",
    "    return set(arr1).union(set(arr2))\n",
    "arr1 = [1, 2, 3]\n",
    "arr2 = [3, 4, 5]\n",
    "print(union(arr1, arr2))  \n"
   ]
  },
  {
   "cell_type": "markdown",
   "id": "8402aee0",
   "metadata": {},
   "source": [
    "Check if Two Arrays are Equal (Ignoring Order & Duplicates)"
   ]
  },
  {
   "cell_type": "code",
   "execution_count": 22,
   "id": "be8ceea0",
   "metadata": {},
   "outputs": [
    {
     "name": "stdout",
     "output_type": "stream",
     "text": [
      "True\n"
     ]
    }
   ],
   "source": [
    "def arrays_equal_set(arr1, arr2):\n",
    "    return set(arr1) == set(arr2)\n",
    "arr1 = [1, 2, 3, 2]\n",
    "arr2 = [3, 1, 2]\n",
    "print(arrays_equal_set(arr1, arr2))  "
   ]
  },
  {
   "cell_type": "code",
   "execution_count": 3,
   "id": "67eecc4d",
   "metadata": {},
   "outputs": [
    {
     "data": {
      "text/plain": [
       "0"
      ]
     },
     "execution_count": 3,
     "metadata": {},
     "output_type": "execute_result"
    }
   ],
   "source": [
    "4^4"
   ]
  },
  {
   "cell_type": "markdown",
   "id": "c04689a3",
   "metadata": {},
   "source": [
    "xored perfixs subarray=0"
   ]
  },
  {
   "cell_type": "code",
   "execution_count": 4,
   "id": "6dfe26ba",
   "metadata": {},
   "outputs": [
    {
     "name": "stdout",
     "output_type": "stream",
     "text": [
      "[1, 2, 3, 2]\n",
      "True\n"
     ]
    }
   ],
   "source": [
    "def has_zero_XOR_subarray(arr):\n",
    "    n = len(arr)\n",
    "    for i in range(n):\n",
    "        XOR = 0\n",
    "        for j in range(i, n):\n",
    "            XOR ^= arr[j]\n",
    "            if XOR == 0:\n",
    "                return True\n",
    "    return False\n",
    "arr = [1, 2, 3, 2]\n",
    "print(arr)\n",
    "print(has_zero_XOR_subarray(arr))"
   ]
  },
  {
   "cell_type": "code",
   "execution_count": null,
   "id": "f9ec96fa",
   "metadata": {},
   "outputs": [],
   "source": [
    "def has_zero_XOR_subarray(arr):\n",
    "    seen = set()\n",
    "    prefix_xor = 0\n",
    "    seen.add(0)  \n",
    "\n",
    "    for num in arr:\n",
    "        prefix_xor ^= num\n",
    "        if prefix_xor in seen:\n",
    "            return True\n",
    "        seen.add(prefix_xor)\n",
    "    \n",
    "    return False\n"
   ]
  },
  {
   "cell_type": "markdown",
   "id": "e9faac58",
   "metadata": {},
   "source": [
    "count those subarrays"
   ]
  },
  {
   "cell_type": "code",
   "execution_count": null,
   "id": "60221def",
   "metadata": {},
   "outputs": [
    {
     "name": "stdout",
     "output_type": "stream",
     "text": [
      "2\n"
     ]
    }
   ],
   "source": [
    "def count_zero_xor_subarrays(arr):\n",
    "    count = 0\n",
    "    prefix_xor = 0\n",
    "    s = {0: 1}  \n",
    "\n",
    "    for num in arr:\n",
    "        prefix_xor ^= num\n",
    "        count += s.get(prefix_xor, 0)\n",
    "        s[prefix_xor] = s.get(prefix_xor, 0) + 1\n",
    "\n",
    "    return count\n",
    "arr = [1, 2, 3, 0, 3]\n",
    "print(count_zero_xor_subarrays(arr))  \n"
   ]
  },
  {
   "cell_type": "code",
   "execution_count": 15,
   "id": "659763f3",
   "metadata": {},
   "outputs": [
    {
     "name": "stdout",
     "output_type": "stream",
     "text": [
      "Index  Value  Prefix_XOR   Freq_Before                    Count_Added  Freq_After\n",
      "----------------------------------------------------------------------------------------------------\n",
      "0      1      1            {0: 1}                         0            {0: 1, 1: 1}\n",
      "1      2      3            {0: 1, 1: 1}                   0            {0: 1, 1: 1, 3: 1}\n",
      "2      3      0            {0: 1, 1: 1, 3: 1}             1            {0: 2, 1: 1, 3: 1}\n",
      "3      0      0            {0: 2, 1: 1, 3: 1}             2            {0: 3, 1: 1, 3: 1}\n",
      "4      3      3            {0: 3, 1: 1, 3: 1}             1            {0: 3, 1: 1, 3: 2}\n",
      "\n",
      "Total Zero-XOR Subarrays: "
     ]
    },
    {
     "data": {
      "text/plain": [
       "4"
      ]
     },
     "execution_count": 15,
     "metadata": {},
     "output_type": "execute_result"
    }
   ],
   "source": [
    "def simulate_zero_xor_subarrays(arr):\n",
    "    count = 0\n",
    "    prefix_xor = 0\n",
    "    s = {0: 1}\n",
    "    n = len(arr)\n",
    "    \n",
    "    print(f\"{'Index':<6} {'Value':<6} {'Prefix_XOR':<12} {'Freq_Before':<30} {'Count_Added':<12} {'Freq_After'}\")\n",
    "    print(\"-\" * 100)\n",
    "\n",
    "    for i, num in enumerate(arr):\n",
    "        prefix_xor ^= num\n",
    "        added = s.get(prefix_xor, 0)\n",
    "        count += added\n",
    "        print(f\"{i:<6} {num:<6} {prefix_xor:<12} {str(s):<30} {added:<12} \", end='')\n",
    "        s[prefix_xor] = s.get(prefix_xor, 0) + 1\n",
    "        print(f\"{str(s)}\")\n",
    "    \n",
    "    print(\"\\nTotal Zero-XOR Subarrays:\", end=\" \")\n",
    "    return count\n",
    "\n",
    "arr = [1, 2, 3, 0, 3]\n",
    "simulate_zero_xor_subarrays(arr)\n"
   ]
  },
  {
   "cell_type": "markdown",
   "id": "d74ab4aa",
   "metadata": {},
   "source": [
    "Xored subarray of size K"
   ]
  },
  {
   "cell_type": "code",
   "execution_count": 6,
   "id": "68db6047",
   "metadata": {},
   "outputs": [
    {
     "name": "stdout",
     "output_type": "stream",
     "text": [
      "[1, 2, 3, 2]\n",
      "False\n"
     ]
    }
   ],
   "source": [
    "def has_K_XOR_subarray(arr,k):\n",
    "    n = len(arr)\n",
    "    for i in range(n):\n",
    "        XOR = 0\n",
    "        for j in range(i, n):\n",
    "            XOR ^= arr[j]\n",
    "            if XOR == k:\n",
    "                return True\n",
    "    return False\n",
    "arr = [1, 2, 3, 2]\n",
    "print(arr)\n",
    "print(has_K_XOR_subarray(arr,6))"
   ]
  },
  {
   "cell_type": "code",
   "execution_count": 19,
   "id": "b3d71502",
   "metadata": {},
   "outputs": [
    {
     "name": "stdout",
     "output_type": "stream",
     "text": [
      "[4, 2, 2, 6, 4]\n",
      "True\n"
     ]
    }
   ],
   "source": [
    "def has_K_XOR_subarray(arr, k):\n",
    "    prefix_xor = 0\n",
    "    s = set()\n",
    "    s.add(0)  \n",
    "\n",
    "    for num in arr:\n",
    "        prefix_xor ^= num\n",
    "        if (prefix_xor ^ k) in s:\n",
    "            return True\n",
    "        s.add(prefix_xor)\n",
    "    \n",
    "    return False\n",
    "arr = [1, 2, 3, 2]\n",
    "arr1 = [4, 2, 2, 6, 4]\n",
    "print(arr1)\n",
    "print(has_K_XOR_subarray(arr1, 6))  \n"
   ]
  },
  {
   "cell_type": "markdown",
   "id": "780c1edd",
   "metadata": {},
   "source": [
    "if we have to count such sub arrays"
   ]
  },
  {
   "cell_type": "code",
   "execution_count": null,
   "id": "4462b82c",
   "metadata": {},
   "outputs": [],
   "source": [
    "def count_subarrays_with_k_xor(arr, k):\n",
    "    from collections import defaultdict\n",
    "\n",
    "    freq = defaultdict(int)\n",
    "    freq[0] = 1  \n",
    "    prefix_xor = 0\n",
    "    count = 0\n",
    "\n",
    "    for num in arr:\n",
    "        prefix_xor ^= num\n",
    "        count += freq[prefix_xor ^ k] #note this down\n",
    "        freq[prefix_xor] += 1\n",
    "\n",
    "    return count\n"
   ]
  },
  {
   "cell_type": "markdown",
   "id": "ac766957",
   "metadata": {},
   "source": [
    "find max xored subarray"
   ]
  },
  {
   "cell_type": "code",
   "execution_count": 22,
   "id": "f45dfb13",
   "metadata": {},
   "outputs": [
    {
     "name": "stdout",
     "output_type": "stream",
     "text": [
      "14\n"
     ]
    }
   ],
   "source": [
    "def max_xor_subarray(arr):\n",
    "    max_xor = float('-inf')\n",
    "    prefix_xor = 0\n",
    "    seen = [0]\n",
    "    \n",
    "    for num in arr:\n",
    "        prefix_xor ^= num\n",
    "        for s in seen:\n",
    "            max_xor = max(max_xor, prefix_xor ^ s)\n",
    "        seen.append(prefix_xor)\n",
    "    \n",
    "    return max_xor\n",
    "arr1 = [4, 2, 2, 6, 4,8]\n",
    "\n",
    "print(max_xor_subarray(arr1))  \n"
   ]
  }
 ],
 "metadata": {
  "kernelspec": {
   "display_name": ".venv",
   "language": "python",
   "name": "python3"
  },
  "language_info": {
   "codemirror_mode": {
    "name": "ipython",
    "version": 3
   },
   "file_extension": ".py",
   "mimetype": "text/x-python",
   "name": "python",
   "nbconvert_exporter": "python",
   "pygments_lexer": "ipython3",
   "version": "3.13.5"
  }
 },
 "nbformat": 4,
 "nbformat_minor": 5
}
