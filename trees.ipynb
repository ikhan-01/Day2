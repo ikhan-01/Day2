{
 "cells": [
  {
   "cell_type": "code",
   "execution_count": 13,
   "id": "9e82ef13",
   "metadata": {},
   "outputs": [
    {
     "name": "stdout",
     "output_type": "stream",
     "text": [
      "40\n",
      "20\n",
      "10\n",
      "30\n",
      "-------------------\n",
      "Total Nodes\n",
      "4\n",
      "-------------------\n",
      "Height of tree \n"
     ]
    },
    {
     "data": {
      "text/plain": [
       "3"
      ]
     },
     "execution_count": 13,
     "metadata": {},
     "output_type": "execute_result"
    }
   ],
   "source": [
    "class node:\n",
    "    def __init__(self,data):\n",
    "        self.value=data\n",
    "        self.left=None\n",
    "        self.right=None\n",
    "\n",
    "\n",
    "def inorder(node):\n",
    "    if node:\n",
    "        inorder(node.left)\n",
    "        print(node.value)\n",
    "        inorder(node.right)\n",
    "\n",
    "def countNodes(node):\n",
    "    if not node:\n",
    "        return 0\n",
    "    return 1 + countNodes(node.left) + countNodes(node.right)\n",
    "\n",
    "def treeHeight(node):\n",
    "    if not node:\n",
    "        return 0\n",
    "    return 1 + max(countNodes(node.left) , countNodes(node.right))\n",
    "\n",
    "root=node(10)\n",
    "root.left=node(20)\n",
    "root.right=node(30)\n",
    "root.left.left=node(40)\n",
    "\n",
    "inorder(root)\n",
    "print(\"-------------------\\nTotal Nodes\")\n",
    "print(countNodes(root))\n",
    "print(\"-------------------\\nHeight of tree \")\n",
    "treeHeight(root)\n"
   ]
  },
  {
   "cell_type": "code",
   "execution_count": null,
   "id": "35aa6473",
   "metadata": {},
   "outputs": [
    {
     "name": "stdout",
     "output_type": "stream",
     "text": [
      "hello0 10\n"
     ]
    }
   ],
   "source": [
    "a=10\n",
    "print(f\"hello{0}\")"
   ]
  },
  {
   "cell_type": "code",
   "execution_count": 30,
   "id": "4d2a15db",
   "metadata": {},
   "outputs": [
    {
     "name": "stdout",
     "output_type": "stream",
     "text": [
      "s1 s2 s3 ['s1', 's2', 's3']\n"
     ]
    }
   ],
   "source": [
    "str=[\"s1\",\"s2\",\"s3\"]\n",
    "for s in str:\n",
    "    print(s,end=' ')\n",
    "print(str)"
   ]
  },
  {
   "cell_type": "code",
   "execution_count": 7,
   "id": "a39c2d00",
   "metadata": {},
   "outputs": [
    {
     "name": "stdout",
     "output_type": "stream",
     "text": [
      "Min in BST:  2\n",
      "2 10 12 15 16 17 19 20 25 27 30 None\n",
      "2 10 12 16 17 19 20 25 27 30 "
     ]
    }
   ],
   "source": [
    "class node:\n",
    "    def __init__(self,data):\n",
    "        self.value=data\n",
    "        self.left=None\n",
    "        self.right=None\n",
    "\n",
    "class BST:\n",
    "    def __init__(self):\n",
    "        self.root=None\n",
    "    def insertKey(self,Key):\n",
    "        def _insert(root,K):\n",
    "            if not root:\n",
    "                return node(K)\n",
    "            elif K<root.value:\n",
    "                root.left=_insert(root.left,K)\n",
    "            else:\n",
    "                root.right=_insert(root.right,K)\n",
    "            return root\n",
    "        \n",
    "        self.root=_insert(self.root,Key)\n",
    "\n",
    "    def inorder(self):\n",
    "        def _inorder(node):\n",
    "            if node:\n",
    "                _inorder(node.left)\n",
    "                print(node.value,end=\" \")\n",
    "                _inorder(node.right)\n",
    "        _inorder(self.root)\n",
    "    def findMin(self):\n",
    "        temp=self.root\n",
    "        while temp.left:\n",
    "            temp=temp.left\n",
    "        print(\"Min in BST: \",temp.value)\n",
    "\n",
    "    def deleteKey(self, Key):\n",
    "        def _delete(root, K):\n",
    "            if not root:\n",
    "                return None\n",
    "\n",
    "            if K < root.value:\n",
    "                root.left = _delete(root.left, K)\n",
    "            elif K > root.value:\n",
    "                root.right = _delete(root.right, K)\n",
    "            else:\n",
    "                # Case 1: Leaf node\n",
    "                if not root.left and not root.right:\n",
    "                    return None\n",
    "                \n",
    "\n",
    "                # Case 2: One child\n",
    "                elif not root.left:\n",
    "                    return root.right\n",
    "                elif not root.right:\n",
    "                    return root.left\n",
    "                \n",
    "\n",
    "                # Case 3: Two children\n",
    "                else:\n",
    "                    # Get inorder successor (smallest in right subtree)\n",
    "                    succ = root.right\n",
    "                    while succ.left:\n",
    "                        succ = succ.left\n",
    "                    root.value = succ.value\n",
    "                    root.right = _delete(root.right, succ.value) # with the help of case 2\n",
    "            return root\n",
    "\n",
    "        self.root = _delete(self.root, Key)\n",
    "\n",
    "\n",
    "\n",
    "b1=BST()\n",
    "b1.insertKey(20)\n",
    "b1.insertKey(15)\n",
    "b1.insertKey(30)\n",
    "b1.insertKey(10)\n",
    "b1.insertKey(17)\n",
    "b1.insertKey(2)\n",
    "b1.insertKey(12)\n",
    "b1.insertKey(16)\n",
    "b1.insertKey(19)\n",
    "b1.insertKey(25)\n",
    "b1.insertKey(27)\n",
    "b1.findMin()\n",
    "print(b1.inorder())\n",
    "b1.deleteKey(15)\n",
    "b1.inorder()\n"
   ]
  },
  {
   "cell_type": "code",
   "execution_count": null,
   "id": "fcfd6413",
   "metadata": {},
   "outputs": [
    {
     "name": "stdout",
     "output_type": "stream",
     "text": [
      "20 10 5 15 30 "
     ]
    }
   ],
   "source": [
    "class node:\n",
    "    def __init__(self, data):\n",
    "        self.value=data\n",
    "        self.left=None\n",
    "        self.right=None\n",
    "root=node(20)\n",
    "root.left=node(10)\n",
    "root.right=node(30)\n",
    "root.left.left=node(5)\n",
    "root.left.right=node(15)\n",
    "\n",
    "def preorder(node):\n",
    "    if node:\n",
    "        print(node.value, end=\" \")\n",
    "        preorder(node.left)\n",
    "        preorder(node.right)\n"
   ]
  },
  {
   "cell_type": "code",
   "execution_count": 14,
   "id": "8875a567",
   "metadata": {},
   "outputs": [
    {
     "name": "stdout",
     "output_type": "stream",
     "text": [
      "10 20 40 50 30 \n",
      "10 20 30 40 50 "
     ]
    }
   ],
   "source": [
    "class ArrayBinaryTree:\n",
    "    def __init__(self, size):\n",
    "        self.size = size\n",
    "        self.tree = [None] * (size + 1)  # 1-based indexing\n",
    "        self.Index = 0\n",
    "\n",
    "    def insert(self, value):\n",
    "        if self.Index >= self.size:\n",
    "            print(\"Tree is full\")\n",
    "            return\n",
    "        self.Index += 1\n",
    "        self.tree[self.Index] = value\n",
    "\n",
    "    def search(self, value):\n",
    "        for i in range(1, self.Index + 1):\n",
    "            if self.tree[i] == value:\n",
    "                return i\n",
    "        return -1\n",
    "\n",
    "    def preorder(self, index):\n",
    "        if index > self.Index:\n",
    "            return\n",
    "        print(self.tree[index], end=' ')\n",
    "        self.preorder(2 * index)\n",
    "        self.preorder(2 * index + 1)\n",
    "\n",
    " \n",
    "    def levelOrder(self):\n",
    "        for i in range(1, self.Index + 1):\n",
    "            print(self.tree[i], end=' ')\n",
    "\n",
    "bt = ArrayBinaryTree(10)\n",
    "bt.insert(10)\n",
    "bt.insert(20)\n",
    "bt.insert(30)\n",
    "bt.insert(40)\n",
    "bt.insert(50)\n",
    "bt.preorder(1)\n",
    "print()\n",
    "bt.levelOrder()"
   ]
  }
 ],
 "metadata": {
  "kernelspec": {
   "display_name": ".venv",
   "language": "python",
   "name": "python3"
  },
  "language_info": {
   "codemirror_mode": {
    "name": "ipython",
    "version": 3
   },
   "file_extension": ".py",
   "mimetype": "text/x-python",
   "name": "python",
   "nbconvert_exporter": "python",
   "pygments_lexer": "ipython3",
   "version": "3.13.5"
  }
 },
 "nbformat": 4,
 "nbformat_minor": 5
}
